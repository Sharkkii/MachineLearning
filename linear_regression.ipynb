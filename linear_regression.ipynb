{
 "cells": [
  {
   "cell_type": "markdown",
   "metadata": {},
   "source": [
    "# 線形回帰"
   ]
  },
  {
   "cell_type": "markdown",
   "metadata": {},
   "source": [
    "標本$\\{({\\bf x_n}, y_n)\\}_n$が与えられたとき、説明変数${\\bf x}$から目的変数$y$を\n",
    "\n",
    "$$\n",
    "f({\\bf x}) \\equiv {\\bf w}^T {\\bf x} = \\Sigma_i w_i x_i\n",
    "$$\n",
    "\n",
    "という関数によって予測するモデルを線形回帰モデルという。ここで${\\bf w}$はパラメータであり、これと${\\bf x}$の線形結合によって$y$を予測している。学習を通してこのパラメータ${\\bf w}$を決定する。"
   ]
  },
  {
   "cell_type": "markdown",
   "metadata": {},
   "source": [
    "損失関数を二乗和誤差とし、それが最小となるような${\\bf w}$を求める。ここで、二乗和誤差MSEは次のように定義される。\n",
    "\n",
    "$$\n",
    "\\text{MSE} \\equiv \\frac{1}{N} \\Sigma_{n=1}^N || y_n - f({\\bf x_n})||^2\n",
    "$$\n",
    "\n",
    "ここで$N$はデータ数を表している。\n",
    "いま、訓練データをまとめて\n",
    "\n",
    "\\begin{eqnarray*}\n",
    "X \\equiv\n",
    "\\left(\n",
    "\\begin{array}{c}\n",
    "{\\bf x_1}^T \\\\\n",
    "\\vdots \\\\\n",
    "{\\bf x_N}^T\n",
    "\\end{array}\n",
    "\\right)\n",
    ",\n",
    "{\\bf y} \\equiv\n",
    "\\left(\n",
    "\\begin{array}{c}\n",
    "y_1 \\\\\n",
    "\\vdots \\\\\n",
    "y_N\n",
    "\\end{array}\n",
    "\\right)\n",
    "\\end{eqnarray*}\n",
    "\n",
    "とおく。このとき、MSEは($f({\\bf x}) = {\\bf x}^T {\\bf w}$に注意すると)\n",
    "\n",
    "$$\n",
    "\\text{MSE} = \\frac{1}{N} || {\\bf y} - X {\\bf w}||^2\n",
    "$$\n",
    "\n",
    "と書き直せる。\n"
   ]
  },
  {
   "cell_type": "markdown",
   "metadata": {},
   "source": [
    "データ$\\{ ({\\bf x_n}, y_n) \\}_n$から(${\\bf w}$について)最尤推定することを考える。関数$L({\\bf w})$を\n",
    "\n",
    "$$\n",
    "L({\\bf w}) \\equiv || {\\bf y} - X {\\bf w}||^2\n",
    "$$\n",
    "\n",
    "とすれば、MSE最小化は\n",
    "\n",
    "$$\n",
    "argmax_{\\bf w} L({\\bf w})\n",
    "$$\n",
    "\n",
    "という制約なし最適化問題になる。ここで、MSEの$\\frac{1}{N}$は定数なので無視している。\n",
    "\n",
    "$L$を${\\bf w}$で微分すると\n",
    "\n",
    "\\begin{eqnarray*}\n",
    "\\frac{\\partial}{\\partial {\\bf w}} L({\\bf w}) &=&\n",
    "\\frac{\\partial}{\\partial {\\bf w}} ({\\bf y} - X {\\bf w})^T ({\\bf y} - X {\\bf w}) \\\\\n",
    "&=& \\frac{\\partial}{\\partial {\\bf w}} ({\\bf y}^T {\\bf y} - {\\bf w}^T X^T {\\bf y} - {\\bf y}^T X {\\bf w} + {\\bf w}^T X^T X {\\bf w}) \\\\\n",
    "&=& - X^T {\\bf y} - ({\\bf y}^T X)^T + (X^T X + X^T X) {\\bf w} \\\\\n",
    "&=& - 2 X^T {\\bf y} + 2 X^T X {\\bf w}\n",
    "\\end{eqnarray*}\n",
    "\n",
    "となる。これを${\\bf 0}$とおけば\n",
    "\n",
    "$$\n",
    "X^T X {\\bf w} = X^T {\\bf y}\n",
    "$$\n",
    "\n",
    "という方程式が得られる。これは正規方程式と呼ばれている。\n",
    "$X$は行ベクトル${\\bf x_n}$を列方向に並べたものなので、${\\bf x_n} \\in {\\mathbb R^D}$とすれば$X \\in R^{ND}$となる。$\\text{rank}(X) = D$ならば$X^T X$は逆行列を持ち、\n",
    "\n",
    "$$\n",
    "{\\bf w} = (X^T X)^{-1} X^T {\\bf y}\n",
    "$$\n",
    "\n",
    "と解析的に解ける。"
   ]
  },
  {
   "cell_type": "markdown",
   "metadata": {},
   "source": [
    "線形回帰に正則化項を加えることで、${\\bf w}$が大きくなりすぎないようにしながら最適化することができる。\n",
    "$\\lambda$を正の定数として\n",
    "\n",
    "$$\n",
    "L({\\bf w}) \\equiv || {\\bf y} - X {\\bf w} ||^2 + \\lambda || {\\bf w} ||^2\n",
    "$$\n",
    "\n",
    "とし、この$L$を最適化することを考える。先と同様にして\n",
    "\n",
    "\\begin{eqnarray*}\n",
    "\\frac{\\partial}{\\partial {\\bf w}} L({\\bf w})\n",
    "= - 2 X^T {\\bf y} + 2 X^T X {\\bf w} + \\lambda {\\bf w}\n",
    "\\end{eqnarray*}\n",
    "\n",
    "となるので、これを0とおけば\n",
    "\n",
    "\\begin{eqnarray*}\n",
    "(X^T X + \\lambda I_N) {\\bf w} = X^T {\\bf y}\n",
    "\\end{eqnarray*}\n",
    "\n",
    "となる。よって適当な仮定のもとで解析的に解くことができる。\n",
    "($X^T X$に逆行列が存在しない場合でも、$\\lambda$を適当に大きくとることで$X^T X + \\lambda I_N$に逆行列が存在するようにできることが知られている。)"
   ]
  },
  {
   "cell_type": "code",
   "execution_count": null,
   "metadata": {},
   "outputs": [],
   "source": []
  },
  {
   "cell_type": "code",
   "execution_count": null,
   "metadata": {},
   "outputs": [],
   "source": []
  }
 ],
 "metadata": {
  "kernelspec": {
   "display_name": "Python 3",
   "language": "python",
   "name": "python3"
  },
  "language_info": {
   "codemirror_mode": {
    "name": "ipython",
    "version": 3
   },
   "file_extension": ".py",
   "mimetype": "text/x-python",
   "name": "python",
   "nbconvert_exporter": "python",
   "pygments_lexer": "ipython3",
   "version": "3.7.4"
  }
 },
 "nbformat": 4,
 "nbformat_minor": 2
}
