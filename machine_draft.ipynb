{
 "cells": [
  {
   "cell_type": "code",
   "execution_count": null,
   "metadata": {},
   "outputs": [],
   "source": []
  },
  {
   "cell_type": "code",
   "execution_count": 1,
   "metadata": {},
   "outputs": [],
   "source": [
    "import numpy as np\n",
    "from numpy import linalg\n",
    "import matplotlib.pyplot as plt\n",
    "from sklearn.datasets import load_iris"
   ]
  },
  {
   "cell_type": "code",
   "execution_count": null,
   "metadata": {},
   "outputs": [],
   "source": []
  },
  {
   "cell_type": "code",
   "execution_count": 248,
   "metadata": {},
   "outputs": [],
   "source": [
    "iris = load_iris()\n",
    "x = iris.data\n",
    "y = iris.target"
   ]
  },
  {
   "cell_type": "markdown",
   "metadata": {},
   "source": [
    "# 線形回帰"
   ]
  },
  {
   "cell_type": "markdown",
   "metadata": {},
   "source": [
    "もともと$y$を近似する関数$f(\\vec{x}) = \\vec{w}^T \\phi(\\vec{x})$のパラメータ$\\vec{w}$を求めることが目標であった。そして二乗和誤差を$|| y_i - f(\\vec{x_i}) ||^2$としてとるが、これを各$i$に対してまとめて求めるため、結局下のような式になる。\n",
    "\\begin{eqnarray*}\n",
    "\\vec{w} = ( \\Phi^T \\Phi)^{-1} \\Phi^T) \\vec{y}\n",
    "\\end{eqnarray*}"
   ]
  },
  {
   "cell_type": "markdown",
   "metadata": {},
   "source": [
    "$A \\vec{x} = \\vec{b}$を解くことを考える。ここでは二乗和誤差が最小となる解を求める、すなわち\n",
    "\\begin{eqnarray*}\n",
    "\\vec{x}^{\\ast} = argmin_{\\vec{x}} L(\\vec{x}) \\equiv argmin_{\\vec{x}} || A \\vec{x} - \\vec{b} ||^2\n",
    "\\end{eqnarray*}\n",
    "を満たすような$\\vec{x}^{\\ast}$を求める。  \n",
    "$A$が正則ならば明らかに$\\vec{x}^{\\ast} = A^{-1} \\vec{b}$であり、そのときの誤差は0になる。$A$が正則でないときには、\n",
    "\\begin{eqnarray*}\n",
    "L(\\vec{x}) &=& || A \\vec{x} - \\vec{b} ||^2 \\\\\n",
    "&=& (A \\vec{x} - \\vec{b})^T (A \\vec{x} - \\vec{b}) \\\\\n",
    "&=& \\vec{x}^T A^T A \\vec{x} - \\vec{x}^T A^T \\vec{b} - \\vec{b}^T A \\vec{x} + \\vec{b}^T \\vec{b}\n",
    "\\end{eqnarray*}\n",
    "とし、これを$\\vec{x}$で微分した\n",
    "\\begin{eqnarray*}\n",
    "\\frac{\\partial}{\\partial \\vec{x}} L(\\vec{x})\n",
    "&=& (A^T A + (A^T A)^T) \\vec{x} - A^T \\vec{b} - A^T \\vec{b} \\\\\n",
    "&=& 2 A^T A \\vec{x} - 2 A^T \\vec{b}\n",
    "\\end{eqnarray*}\n",
    "が0になるような$\\vec{x}$を考える。すなわち\n",
    "\\begin{eqnarray*}\n",
    "A^T A \\vec{x} = A^T \\vec{b}\n",
    "\\end{eqnarray*}\n",
    "を満たすような$\\vec{x}$をとれば良い。  \n",
    "これを$\\vec{x}$について解くために、擬似逆行列$A^{\\dagger}$を導入する。以下の4条件\n",
    "\\begin{eqnarray}\n",
    "A A^{\\dagger} A &=& A \\\\\n",
    "A^{\\dagger} A A^{\\dagger} &=& A^{\\dagger} \\\\\n",
    "(A^{\\dagger} A)^T &=& A^{\\dagger} A \\\\\n",
    "(A A^{\\dagger})^T &=& A A^{\\dagger}\n",
    "\\end{eqnarray}\n",
    "を満たす$A^{\\dagger}$を$A$の擬似逆行列と言う。\n",
    "$A \\in M_{mn}$について$rank(A) = m$ならば$A A^T$は正則であって$A^{\\dagger} = A^T (A A^T)^{-1}$が成立する。\n",
    "また、$rank(A) = n$ならば$A^T A$は正則であって$A^{\\dagger} \\equiv (A^T A)^{-1} A^T$が成立する。  \n",
    "最小二乗解を(解析的に)求めるには$rank(A) = n$が必要であるが、もしこれを仮定できれば\n",
    "\\begin{eqnarray*}\n",
    "\\vec{x}^{\\ast} = A^{\\dagger} \\vec{b}\n",
    "\\end{eqnarray*}\n",
    "が成立する。\n"
   ]
  },
  {
   "cell_type": "markdown",
   "metadata": {},
   "source": [
    "# 正則化線形回帰"
   ]
  },
  {
   "cell_type": "markdown",
   "metadata": {},
   "source": [
    "線形回帰の問題において解$\\vec{x}^{\\ast}$が大きくなりすぎないように正則化項を加えることを考える。すなわち\n",
    "\\begin{eqnarray*}\n",
    "\\vec{x}^{\\ast} = argmin_{\\vec{x}} L(\\vec{x}) \\equiv argmin_{\\vec{x}} (|| A \\vec{x} - \\vec{b} ||^2 + \\lambda || \\vec{x} || ^2)\n",
    "\\end{eqnarray*}\n",
    "という問題を考える。正則化項がない場合の線形回帰問題と同様に$L(\\vec{x})$の微分をとって\n",
    "\\begin{eqnarray*}\n",
    "\\frac{\\partial}{\\partial \\vec{x}} L(\\vec{x})\n",
    "= 2 A^T A \\vec{x} - 2 A^T \\vec{b} + 2 \\lambda \\vec{x}\n",
    "\\end{eqnarray*}\n",
    "が得られる。これを0とおくと\n",
    "\\begin{eqnarray*}\n",
    "(A^T A + \\lambda I) \\vec{x} = A^T \\vec{b}\n",
    "\\end{eqnarray*}\n",
    "となる。この後も同様にして解くことができる。"
   ]
  },
  {
   "cell_type": "code",
   "execution_count": 3,
   "metadata": {},
   "outputs": [],
   "source": [
    "def sign(x):\n",
    "    return np.where(x>=0, 1, -1)    \n",
    "\n",
    "def step_function(x):\n",
    "    return np.where(x>=0, 1, 0)\n",
    "    \n",
    "def sigmoid(x):\n",
    "    return 1 / (1 + np.exp(-x))\n",
    "\n",
    "class Base():\n",
    "    def __init__(self, *func):\n",
    "        self.func = list(func)\n",
    "        self.n = len(self.func)\n",
    "    def apply(self, x):\n",
    "        y = self.func[0](x).reshape(-1,1)\n",
    "        for k in range(1,self.n):\n",
    "            y = np.concatenate((y, self.func[k](x).reshape(-1,1)), axis=1)\n",
    "        return y"
   ]
  },
  {
   "cell_type": "code",
   "execution_count": 135,
   "metadata": {},
   "outputs": [],
   "source": [
    "class LinearRegression():\n",
    "    def __init__(self, base, input_dim=1, output_dim=1, lam=0.0):\n",
    "        self.weight = np.zeros((output_dim,))\n",
    "        self.base = base\n",
    "        self.lam = lam\n",
    "        self.input_dim = input_dim\n",
    "        self.output_dim = output_dim\n",
    "    def fit(self, x, y):\n",
    "        phi = self.base.apply(x)\n",
    "        w_dagger = np.linalg.inv(np.dot(phi.T, phi) + self.lam * np.eye(phi.shape[1])).dot(phi.T)\n",
    "        self.weight = w_dagger.dot(y)\n",
    "        return self.weight\n",
    "    def predict(self, x):\n",
    "        phi = self.base.apply(x)\n",
    "        f = np.dot(phi, self.weight)\n",
    "        return f"
   ]
  },
  {
   "cell_type": "code",
   "execution_count": 136,
   "metadata": {},
   "outputs": [
    {
     "data": {
      "text/plain": [
       "array([[ 1,  1],\n",
       "       [ 2,  4],\n",
       "       [ 3,  9],\n",
       "       [ 4, 16]])"
      ]
     },
     "execution_count": 136,
     "metadata": {},
     "output_type": "execute_result"
    }
   ],
   "source": [
    "x = np.array([1,2,3,4]).reshape(-1, 1)\n",
    "y = np.array([2,4,6,7])\n",
    "base = Base(lambda x: x, lambda x: x*x)\n",
    "base.apply(x)"
   ]
  },
  {
   "cell_type": "code",
   "execution_count": 138,
   "metadata": {},
   "outputs": [
    {
     "data": {
      "text/plain": [
       "array([2.16774194, 4.07741935, 5.72903226, 7.12258065])"
      ]
     },
     "execution_count": 138,
     "metadata": {},
     "output_type": "execute_result"
    }
   ],
   "source": [
    "lr = LinearRegression(base, output_dim=2)\n",
    "lr.fit(x,y)\n",
    "lr.predict(x)"
   ]
  },
  {
   "cell_type": "code",
   "execution_count": 120,
   "metadata": {},
   "outputs": [
    {
     "data": {
      "text/plain": [
       "array([2.2, 3.9, 5.6, 7.3])"
      ]
     },
     "execution_count": 120,
     "metadata": {},
     "output_type": "execute_result"
    }
   ],
   "source": [
    "from sklearn.linear_model import LinearRegression\n",
    "lr = LinearRegression()\n",
    "lr.fit(x,y)\n",
    "lr.predict(x)"
   ]
  },
  {
   "cell_type": "markdown",
   "metadata": {},
   "source": [
    "# パーセプトロン"
   ]
  },
  {
   "cell_type": "markdown",
   "metadata": {},
   "source": [
    "2値分類について考える。各データをクラス$\\pm 1$のいずれかに分類することを考え、\n",
    "\\begin{eqnarray*}\n",
    "y_i = f(\\vec{w}^T \\phi(\\vec{x_i}))\n",
    "\\end{eqnarray*}\n",
    "によってクラスを予測する。ここで$f$は活性化関数であるが、これは引数の値が非負ならば$+1$に割り当て、負ならば$-1$に割り当てる。  \n",
    "誤差は(正解ラベルを$t_i$として)\n",
    "\\begin{eqnarray*}\n",
    "L \\equiv \\Sigma_i - \\vec{w}^T \\phi(\\vec{x_i}) t_i\n",
    "\\end{eqnarray*}\n",
    "と定義する。ただし、和は誤分類したデータすべてについてとる。決定境界が$\\vec{w}^T \\phi(\\vec{x_i}) = 0$にあることを考えると、境界面から離れるに従って誤差が大きくなっていくことがわかる。  この誤差関数に従って、パラメータ$\\vec{w}$を\n",
    "\\begin{eqnarray*}\n",
    "\\vec{w}_{k+1} = \\vec{w}_k + \\eta \\phi(\\vec{x_i}) t_i\n",
    "\\end{eqnarray*}\n",
    "によって更新する。ここで、スケーリングに対して予測結果は不変であることから、$\\eta$を1として良い。すなわち\n",
    "\\begin{eqnarray*}\n",
    "\\vec{w}_{k+1} = \\vec{w}_k + \\phi(\\vec{x_i}) t_i\n",
    "\\end{eqnarray*}\n",
    "とすれば良い。\n",
    "パーセプトロンの収束定理より有限回の繰り返しで厳密解に収束する。"
   ]
  },
  {
   "cell_type": "code",
   "execution_count": 178,
   "metadata": {},
   "outputs": [],
   "source": [
    "class Perceptron():\n",
    "    def __init__(self, base, input_dim=1, output_dim=1):\n",
    "        self.weight = np.zeros((output_dim,))\n",
    "        self.base = base\n",
    "        self.input_dim = input_dim\n",
    "        self.output_dim = output_dim\n",
    "    def predict(self, x):\n",
    "        phi = self.base.apply(x)\n",
    "        linear_combination = np.dot(phi, self.weight)\n",
    "        return sign(linear_combination)\n",
    "    def fit(self, x, y, iteration=10):\n",
    "        phi = self.base.apply(x)\n",
    "        for _ in range(iteration):\n",
    "            y_pred = self.predict(x)\n",
    "            false = (y != y_pred)\n",
    "            x_false = x[false]\n",
    "            y_false = y[false]\n",
    "            phi_false = phi[false]\n",
    "            self.weight = self.weight + np.dot(y_false, phi_false)\n",
    "        return self.weight"
   ]
  },
  {
   "cell_type": "code",
   "execution_count": 179,
   "metadata": {},
   "outputs": [
    {
     "data": {
      "text/plain": [
       "array([[ 1,  1,  4],\n",
       "       [ 1,  2,  1],\n",
       "       [ 1, -1,  0],\n",
       "       [ 1, -5,  1]])"
      ]
     },
     "execution_count": 179,
     "metadata": {},
     "output_type": "execute_result"
    }
   ],
   "source": [
    "x = np.array([[1,2],[2,1],[-1,0],[-5,-1]])\n",
    "y = np.array([1,1,-1,-1])\n",
    "base = Base(lambda x: np.ones_like(x[:, 0]), lambda x: x[:, 0], lambda x: x[:, 1]*x[:, 1])\n",
    "base.apply(x)"
   ]
  },
  {
   "cell_type": "code",
   "execution_count": 180,
   "metadata": {},
   "outputs": [
    {
     "name": "stdout",
     "output_type": "stream",
     "text": [
      "[[ 1  2]\n",
      " [ 2  1]\n",
      " [-1  0]\n",
      " [-5 -1]]\n"
     ]
    },
    {
     "data": {
      "text/plain": [
       "array([ 1,  1, -1, -1])"
      ]
     },
     "execution_count": 180,
     "metadata": {},
     "output_type": "execute_result"
    }
   ],
   "source": [
    "p = Perceptron(base, input_dim=3, output_dim=3)\n",
    "p.fit(x,y)\n",
    "p.predict(x)"
   ]
  },
  {
   "cell_type": "markdown",
   "metadata": {},
   "source": [
    "# ロジスティック回帰"
   ]
  },
  {
   "cell_type": "markdown",
   "metadata": {},
   "source": [
    "2値分類問題を生成的なアプローチで考える。生成的なアプローチでは、分布の形を仮定して、そのパラメータを最尤法で決定する。ここではガウス分布\n",
    "\\begin{eqnarray*}\n",
    "p(\\vec{x}) = \\frac{1}{(2 \\pi)^{\\frac{D}{2}} |\\Sigma|^{\\frac{1}{2}}} \\exp \\left( - \\frac{1}{2} (\\vec{x} - \\vec{\\mu})^T \\Sigma^{-1} (\\vec{x} - \\vec{\\mu}) \\right)\n",
    "\\end{eqnarray*}\n",
    "をとることにする。クラスを$C_1, C_2$とし、データ点$\\vec{x}$のクラス$C_1$に対する事後確率はベイズの定理より\n",
    "\\begin{eqnarray*}\n",
    "p(C_1 | \\vec{x})\n",
    "&=& \\frac{p(\\vec{x} | C_1) p(C_1)}{p(\\vec{x} | C_1) p(C_1) + p(\\vec{x} | C_2) p(C_2)} \\\\\n",
    "&=& \\frac{1}{1 + \\frac{p(\\vec{x} | C_2) p(C_2)}{p(\\vec{x} | C_1) p(C_1)}} \\\\\n",
    "&=& \\frac{1}{1 + \\exp \\left( \\log \\frac{p(\\vec{x} | C_2) p(C_2)}{p(\\vec{x} | C_1) p(C_1)} \\right) } \\\\\n",
    "\\end{eqnarray*}\n",
    "となる。シグモイド関数$\\sigma(a) \\equiv \\frac{1}{1 + \\exp(-a)}$を使えば\n",
    "\\begin{eqnarray*}\n",
    "p(C_1 | \\vec{x}) = \\sigma \\left( \\log \\frac{p(\\vec{x} | C_1) p(C_1)}{p(\\vec{x} | C_2) p(C_2)} \\right)\n",
    "\\end{eqnarray*}\n",
    "となる。ここで、クラスの条件付き分布の共分散行列が同じであるという仮定をおくと、$\\log \\frac{p(\\vec{x} | C_1) p(C_1)}{p(\\vec{x} | C_2) p(C_2)}$は$\\vec{x}$に関して線形となる。よって\n",
    "\\begin{eqnarray*}\n",
    "p(C_1 | \\vec{x}) = \\sigma (\\vec{w}^T \\vec{x})\n",
    "\\end{eqnarray*}\n",
    "のように書くことができる。  \n",
    "誤差関数は負の対数尤度とし、これを最小化することを考える。尤度は$y_i = p(C_1 | \\vec{x_i}) = \\sigma (\\vec{w}^T \\vec{x_i})$として\n",
    "\\begin{eqnarray*}\n",
    "L \\equiv p(\\vec{t} | \\vec{w}) = \\Pi_i y_i^{t_i} (1 - y_i)^{1 - t_i}\n",
    "\\end{eqnarray*}\n",
    "であるから、負の対数尤度は\n",
    "\\begin{eqnarray*}\n",
    "E(\\vec{w}) = - \\log L(\\vec{w}) = - \\Sigma_i ( t_i \\log(y_i) + (1 - t_i) \\log(1 - y_i) )\n",
    "\\end{eqnarray*}\n",
    "とかける。$\\vec{w}$で微分すれば\n",
    "\\begin{eqnarray*}\n",
    "\\nabla E = \\Sigma_i (y_i - t_i) \\phi(\\vec{x_i})\n",
    "\\end{eqnarray*}\n",
    "が得られる。(計算過程はまた今度書く。)これに基づいて勾配法を適用する。\n",
    "\n",
    "正則化項を含めると、損失関数は\n",
    "\\begin{eqnarray*}\n",
    "E(\\vec{w}) = - \\Sigma_i ( t_i \\log(y_i) + (1 - t_i) \\log(1 - y_i) ) + \\frac{1}{2} \\lambda || w ||^2\n",
    "\\end{eqnarray*}\n",
    "となる。よって\n",
    "\\begin{eqnarray*}\n",
    "\\nabla E = \\Sigma_i (y_i - t_i) \\phi(\\vec{x_i}) + \\lambda w\n",
    "\\end{eqnarray*}\n",
    "となる。"
   ]
  },
  {
   "cell_type": "code",
   "execution_count": 111,
   "metadata": {},
   "outputs": [],
   "source": [
    "class LogisticRegression():\n",
    "    def __init__(self, base, input_dim=1, output_dim=1, lam=0.0, random_state=0):\n",
    "#         self.weight = np.random.randn(output_dim)\n",
    "        self.weight = np.zeros((output_dim,))\n",
    "        self.base = base\n",
    "        self.lam = lam\n",
    "        self.input_dim = input_dim\n",
    "        self.output_dim = output_dim\n",
    "    def predict(self, x):\n",
    "        phi = self.base.apply(x)\n",
    "        linear_combination = np.dot(phi, self.weight)\n",
    "        return sigmoid(linear_combination)\n",
    "    def fit(self, x, y, iteration=10, learning_rate=0.001, threshold=0.001):\n",
    "        phi = self.base.apply(x)\n",
    "        for _ in range(iteration):\n",
    "            y_pred = self.predict(x)\n",
    "            res = y_pred - y\n",
    "            if (np.all(np.abs(res) < threshold)):\n",
    "                break\n",
    "            self.weight = self.weight - learning_rate * (np.dot(y_pred - y, phi) - self.lam * self.weight)\n",
    "        return self.weight"
   ]
  },
  {
   "cell_type": "code",
   "execution_count": 114,
   "metadata": {},
   "outputs": [
    {
     "data": {
      "text/plain": [
       "array([0.05188025, 0.08912967, 0.06669013, 0.10111529, 0.04822055,\n",
       "       0.05778963, 0.06967287, 0.06836266, 0.11114234, 0.08805511,\n",
       "       0.04567992, 0.08350144, 0.08588767, 0.06262912, 0.01893462,\n",
       "       0.02362814, 0.03128403, 0.05536201, 0.05524711, 0.04780443,\n",
       "       0.08290521, 0.05636013, 0.02897625, 0.11831485, 0.12846346,\n",
       "       0.11592324, 0.08993026, 0.05878908, 0.05580142, 0.10362345,\n",
       "       0.11099758, 0.06998198, 0.03011787, 0.02291222, 0.09372463,\n",
       "       0.05299383, 0.04000122, 0.04639079, 0.08750222, 0.06659893,\n",
       "       0.04883503, 0.17240587, 0.07211862, 0.09260347, 0.09266061,\n",
       "       0.09729535, 0.05215725, 0.07941737, 0.0469175 , 0.06492203,\n",
       "       0.95223557, 0.94827096, 0.97111023, 0.95957833, 0.96956023,\n",
       "       0.96731788, 0.96161591, 0.87009952, 0.96048504, 0.93930904,\n",
       "       0.93179988, 0.94146187, 0.94912223, 0.97234496, 0.8661622 ,\n",
       "       0.93706037, 0.96587248, 0.93197031, 0.98227735, 0.93285518,\n",
       "       0.97670067, 0.92228279, 0.98678814, 0.97146485, 0.94079587,\n",
       "       0.94446663, 0.97414589, 0.9815429 , 0.96563822, 0.85671315,\n",
       "       0.93112509, 0.91490921, 0.91937634, 0.98981615, 0.96767285,\n",
       "       0.94681381, 0.96268351, 0.97299444, 0.92852265, 0.950596  ,\n",
       "       0.96847167, 0.96423986, 0.9369853 , 0.87855793, 0.9543349 ,\n",
       "       0.93263644, 0.94276118, 0.94384223, 0.79055862, 0.93970148])"
      ]
     },
     "execution_count": 114,
     "metadata": {},
     "output_type": "execute_result"
    }
   ],
   "source": [
    "# TODO: スケールが大きいと更新が早い(どうやって実装する？)\n",
    "_x = x[:100]\n",
    "_y = y[:100]\n",
    "base = Base(lambda x: np.ones_like(x[:, 0]), lambda x: x[:, 0], lambda x: x[:, 1], lambda x: x[:, 2], lambda x: x[:, 3])\n",
    "lr = LogisticRegression(base, input_dim=4, output_dim=5)\n",
    "lr.fit(_x, _y,iteration=100,learning_rate=0.001)\n",
    "lr.predict(_x)"
   ]
  },
  {
   "cell_type": "code",
   "execution_count": 107,
   "metadata": {
    "scrolled": true
   },
   "outputs": [
    {
     "name": "stderr",
     "output_type": "stream",
     "text": [
      "/Users/Noahz-ark/anaconda3/lib/python3.7/site-packages/sklearn/linear_model/logistic.py:432: FutureWarning: Default solver will be changed to 'lbfgs' in 0.22. Specify a solver to silence this warning.\n",
      "  FutureWarning)\n"
     ]
    },
    {
     "data": {
      "text/plain": [
       "array([[0.9837306 , 0.0162694 ],\n",
       "       [0.96407227, 0.03592773],\n",
       "       [0.97647105, 0.02352895],\n",
       "       [0.95654126, 0.04345874],\n",
       "       [0.98534488, 0.01465512],\n",
       "       [0.98086592, 0.01913408],\n",
       "       [0.97477662, 0.02522338],\n",
       "       [0.9756756 , 0.0243244 ],\n",
       "       [0.94988578, 0.05011422],\n",
       "       [0.96484713, 0.03515287],\n",
       "       [0.98650419, 0.01349581],\n",
       "       [0.96730747, 0.03269253],\n",
       "       [0.9660858 , 0.0339142 ],\n",
       "       [0.97853302, 0.02146698],\n",
       "       [0.9961785 , 0.0038215 ],\n",
       "       [0.99471294, 0.00528706],\n",
       "       [0.9920933 , 0.0079067 ],\n",
       "       [0.98205008, 0.01794992],\n",
       "       [0.98221287, 0.01778713],\n",
       "       [0.9854774 , 0.0145226 ],\n",
       "       [0.96786256, 0.03213744],\n",
       "       [0.98149485, 0.01850515],\n",
       "       [0.99291282, 0.00708718],\n",
       "       [0.94469065, 0.05530935],\n",
       "       [0.93796494, 0.06203506],\n",
       "       [0.94696615, 0.05303385],\n",
       "       [0.96330912, 0.03669088],\n",
       "       [0.98051681, 0.01948319],\n",
       "       [0.98194177, 0.01805823],\n",
       "       [0.95497024, 0.04502976],\n",
       "       [0.95017934, 0.04982066],\n",
       "       [0.97473194, 0.02526806],\n",
       "       [0.9925852 , 0.0074148 ],\n",
       "       [0.99497222, 0.00502778],\n",
       "       [0.96129283, 0.03870717],\n",
       "       [0.98321334, 0.01678666],\n",
       "       [0.98886915, 0.01113085],\n",
       "       [0.98618329, 0.01381671],\n",
       "       [0.96484517, 0.03515483],\n",
       "       [0.97661271, 0.02338729],\n",
       "       [0.98501482, 0.01498518],\n",
       "       [0.90271509, 0.09728491],\n",
       "       [0.97353141, 0.02646859],\n",
       "       [0.96136555, 0.03863445],\n",
       "       [0.96166372, 0.03833628],\n",
       "       [0.95888508, 0.04111492],\n",
       "       [0.98359525, 0.01640475],\n",
       "       [0.96957758, 0.03042242],\n",
       "       [0.98595773, 0.01404227],\n",
       "       [0.97744649, 0.02255351],\n",
       "       [0.01540679, 0.98459321],\n",
       "       [0.01710145, 0.98289855],\n",
       "       [0.0074532 , 0.9925468 ],\n",
       "       [0.01198469, 0.98801531],\n",
       "       [0.00799896, 0.99200104],\n",
       "       [0.00884878, 0.99115122],\n",
       "       [0.01106559, 0.98893441],\n",
       "       [0.06656811, 0.93343189],\n",
       "       [0.0117305 , 0.9882695 ],\n",
       "       [0.02138387, 0.97861613],\n",
       "       [0.02574336, 0.97425664],\n",
       "       [0.02035252, 0.97964748],\n",
       "       [0.0170035 , 0.9829965 ],\n",
       "       [0.00697243, 0.99302757],\n",
       "       [0.0692427 , 0.9307573 ],\n",
       "       [0.02290591, 0.97709409],\n",
       "       [0.00932131, 0.99067869],\n",
       "       [0.02584251, 0.97415749],\n",
       "       [0.00370018, 0.99629982],\n",
       "       [0.02520338, 0.97479662],\n",
       "       [0.00535708, 0.99464292],\n",
       "       [0.03110856, 0.96889144],\n",
       "       [0.00244463, 0.99755537],\n",
       "       [0.00735378, 0.99264622],\n",
       "       [0.02098167, 0.97901833],\n",
       "       [0.01908059, 0.98091941],\n",
       "       [0.00638605, 0.99361395],\n",
       "       [0.00390217, 0.99609783],\n",
       "       [0.00945716, 0.99054284],\n",
       "       [0.07773918, 0.92226082],\n",
       "       [0.0261325 , 0.9738675 ],\n",
       "       [0.03576723, 0.96423277],\n",
       "       [0.03286278, 0.96713722],\n",
       "       [0.00168052, 0.99831948],\n",
       "       [0.0086066 , 0.9913934 ],\n",
       "       [0.0176437 , 0.9823563 ],\n",
       "       [0.01072331, 0.98927669],\n",
       "       [0.00679175, 0.99320825],\n",
       "       [0.02736015, 0.97263985],\n",
       "       [0.01599582, 0.98400418],\n",
       "       [0.00842532, 0.99157468],\n",
       "       [0.01006449, 0.98993551],\n",
       "       [0.02292875, 0.97707125],\n",
       "       [0.06026888, 0.93973112],\n",
       "       [0.01428918, 0.98571082],\n",
       "       [0.02522293, 0.97477707],\n",
       "       [0.01982383, 0.98017617],\n",
       "       [0.01939041, 0.98060959],\n",
       "       [0.13676568, 0.86323432],\n",
       "       [0.02138508, 0.97861492]])"
      ]
     },
     "execution_count": 107,
     "metadata": {},
     "output_type": "execute_result"
    }
   ],
   "source": [
    "# 比較実験\n",
    "from sklearn.linear_model import LogisticRegression\n",
    "lr = LogisticRegression()\n",
    "lr.fit(_x,_y)\n",
    "lr.predict_proba(_x)"
   ]
  },
  {
   "cell_type": "markdown",
   "metadata": {},
   "source": [
    "# サポートベクターマシン"
   ]
  },
  {
   "cell_type": "markdown",
   "metadata": {},
   "source": [
    "2値分類問題を考える。具体的には、\n",
    "\\begin{eqnarray*}\n",
    "y(x) = w^T \\phi(x) + b\n",
    "\\end{eqnarray*}\n",
    "の正負によってクラスを分類する。ここで分類境界は\n",
    "\\begin{eqnarray*}\n",
    "y(x) = w^T x + b = 0\n",
    "\\end{eqnarray*}\n",
    "を満たす超平面である。データ集合$\\{ (x_n,t_n) \\}_n$が線形分離できているとすると、各データ点から分類境界までの距離(マージン)は\n",
    "\\begin{eqnarray*}\n",
    "\\frac{|y(x)|}{||w||} = \\frac{t_n y_n}{||w||} = \\frac{t_n w^T \\phi(x_n)}{||w||}\n",
    "\\end{eqnarray*}\n",
    "とかける。ここで正しく分類できているデータ点に関して$t_n y_n > 0$が成り立つことを利用している。\n",
    "分類境界に最も近いデータ点を$(x,t)$とする。スケーリングしても予測が不変であるから、適当にスケーリングすることで\n",
    "\\begin{eqnarray*}\n",
    "t (w^T \\phi(x) + b) = 1\n",
    "\\end{eqnarray*}\n",
    "となるようにできる。それ以外の点については\n",
    "\\begin{eqnarray*}\n",
    "t_n (w^T \\phi(x_n) + b) \\ge 1\n",
    "\\end{eqnarray*}\n",
    "が成り立つ。この条件のもとでマージンを最大化したい。すなわち\n",
    "\\begin{eqnarray*}\n",
    "argmax_{w,b} \\frac{1}{||w||} s.t. t_n (w^T \\phi(x_n) + b) \\ge 1\n",
    "\\end{eqnarray*}\n",
    "なる最適化問題を解きたい。これは\n",
    "\\begin{eqnarray*}\n",
    "argmin_{w,b} \\frac{1}{2}||w||^2 s.t. t_n (w^T \\phi(x_n) + b) \\ge 1\n",
    "\\end{eqnarray*}\n",
    "を解くことと同値である。ここで最小化したい値$\\frac{1}{2}||w||^2$のことをハードマージンという。\n",
    "\n",
    "さて、線形分離不能なデータ集合に対しては、ペナルティを導入し、ソフトマージンを最小化することを考える。\n",
    "\\begin{eqnarray*}\n",
    "argmin_{w,b,\\xi} \\frac{1}{2} ||w||^2 + C \\Sigma_n \\xi_n\n",
    "s.t. t_n y(x_n) \\ge 1 - \\xi_n, \\xi \\ge 0\n",
    "\\end{eqnarray*}\n",
    "ここで$\\xi$はスラック変数であり、正しく分類されているデータ$(x_n, t_n)$に対しては$\\xi_n = 0$となり、マージン内部にある、または誤分類しているときに限り正の値をとる。$C$は正則化パラメータである。\n",
    "目的関数を条件を利用して書き直せば\n",
    "\\begin{eqnarray*}\n",
    "argmin_{w,b,\\xi} \\frac{1}{2} ||w||^2 + C \\Sigma_n \\max(0, 1 - t_n y(x_n))\n",
    "\\end{eqnarray*}\n",
    "とできる。これは制約なし最適化問題になっている。$\\max(f(x), 0)$関数については$x=0$において微分が定義されないが、劣微分を用いることで解決できる。具体的には\n",
    "\\begin{eqnarray*}\n",
    "\\frac{\\partial}{\\partial x} \\max(f(x), 0) = \n",
    "\\begin{cases}\n",
    "0 & \\text{if } x \\le 0\\\\\n",
    "\\frac{\\partial}{\\partial x} f(x) & \\text{otherwise}\n",
    "\\end{cases}\n",
    "\\end{eqnarray*}\n",
    "である。\n",
    "(ロジスティック回帰との関係はまた今度書く)"
   ]
  },
  {
   "cell_type": "markdown",
   "metadata": {},
   "source": [
    "\\begin{eqnarray*}\n",
    "y(x) &=& w^T \\phi(x) + b \\\\\n",
    "\\frac{\\partial}{\\partial w} \\frac{1}{2} w^T w &=& w \\\\\n",
    "\\frac{\\partial}{\\partial w} y(x) &=& \\phi(x) \\\\\n",
    "\\frac{\\partial}{\\partial w} \\max(0, 1 - t_n y_n) &=& \n",
    "\\begin{cases}\n",
    "0 & \\text{if } x \\le 0 \\\\\n",
    "- t_n \\phi(x_n) & \\text{otherwise} \\\\\n",
    "\\end{cases} \\\\\n",
    "\\frac{\\partial}{\\partial w} \\frac{1}{2} ||w||^2 + C \\Sigma_n \\max(0, 1 - t_n y(x_n)) &=& w - C \\Sigma_n t_n \\phi(x_n) \\\\\n",
    "\\frac{\\partial}{\\partial b} \\frac{1}{2} ||w||^2 + C \\Sigma_n \\max(0, 1 - t_n y(x_n)) &=& - C \\Sigma_n t_n\n",
    "\\end{eqnarray*}\n",
    "となる。ただし、和は$1 - t_n y(x_n) > 0$なるデータについてとる。"
   ]
  },
  {
   "cell_type": "code",
   "execution_count": 83,
   "metadata": {},
   "outputs": [],
   "source": [
    "class SupportVectorMachine():\n",
    "    def __init__(self, base, input_dim, output_dim, C=1.0):\n",
    "        self.weight = np.zeros((output_dim),)\n",
    "        self.bias = 0.0\n",
    "        self.base = base\n",
    "        self.input_dim = input_dim\n",
    "        self.output_dim = output_dim\n",
    "        self.C = C\n",
    "    def predict(self, x):\n",
    "        phi = self.base.apply(x)\n",
    "        linear_combination = np.dot(phi, self.weight) + self.bias\n",
    "        return sign(linear_combination)\n",
    "    def fit(self, x, y, iteration=10, learning_rate=0.001):\n",
    "        phi = self.base.apply(x)\n",
    "        for _ in range(iteration):\n",
    "            y_pred = self.predict(x)\n",
    "            false = (y * y_pred) < 1\n",
    "            if (not np.any(false)):\n",
    "                break\n",
    "            x_false = x[false]\n",
    "            y_false = y[false]\n",
    "            phi_false = phi[false]\n",
    "            self.weight = self.weight - learning_rate * (self.weight - self.C * np.dot(y_false, phi_false))\n",
    "            self.bias = self.bias + learning_rate * (self.C * np.sum(y_false))\n",
    "        return self.weight, self.bias"
   ]
  },
  {
   "cell_type": "code",
   "execution_count": 100,
   "metadata": {},
   "outputs": [
    {
     "data": {
      "text/plain": [
       "array([-1, -1, -1, -1, -1, -1, -1, -1, -1, -1, -1, -1, -1, -1, -1, -1, -1,\n",
       "       -1, -1, -1, -1, -1, -1, -1, -1, -1, -1, -1, -1, -1, -1, -1, -1, -1,\n",
       "       -1, -1, -1, -1, -1, -1, -1, -1, -1, -1, -1, -1, -1, -1, -1, -1,  1,\n",
       "        1,  1,  1,  1,  1,  1,  1,  1,  1,  1,  1,  1,  1,  1,  1,  1,  1,\n",
       "        1,  1,  1,  1,  1,  1,  1,  1,  1,  1,  1,  1,  1,  1,  1,  1,  1,\n",
       "        1,  1,  1,  1,  1,  1,  1,  1,  1,  1,  1,  1,  1,  1,  1])"
      ]
     },
     "execution_count": 100,
     "metadata": {},
     "output_type": "execute_result"
    }
   ],
   "source": [
    "_x = x[:100]\n",
    "_y = np.where(y[:100] > 0, y[:100], -1)\n",
    "base = Base(lambda x: np.ones_like(x[:, 0]), lambda x: x[:, 0], lambda x: x[:, 1], lambda x: x[:, 2], lambda x: x[:, 3])\n",
    "svm = SupportVectorMachine(base, input_dim=4, output_dim=5)\n",
    "svm.fit(_x, _y,iteration=10,learning_rate=0.001)\n",
    "svm.predict(_x)"
   ]
  },
  {
   "cell_type": "code",
   "execution_count": null,
   "metadata": {},
   "outputs": [],
   "source": []
  },
  {
   "cell_type": "markdown",
   "metadata": {},
   "source": [
    "# K近傍法"
   ]
  },
  {
   "cell_type": "markdown",
   "metadata": {},
   "source": [
    "学習用データが与えられた際、それらをすべて記憶しておく。テストデータが来た際に、その点から(ある距離指標に関して)最も近い$k$点を選び、それらのクラスラベルの多数決によってテストデータのクラスラベルを決定する。"
   ]
  },
  {
   "cell_type": "code",
   "execution_count": 300,
   "metadata": {},
   "outputs": [],
   "source": [
    "class KNearestNeighbor():\n",
    "    def __init__(self, k):\n",
    "        self.k = k\n",
    "        self.x = np.array([])\n",
    "        self.y = np.array([], dtype=np.int64)\n",
    "        self.classes = np.unique(y)\n",
    "    def fit(self, x, y):\n",
    "        self.x = self.x.reshape(-1, x.shape[1])\n",
    "        self.x = np.concatenate([self.x, x], axis=0)\n",
    "        self.y = np.concatenate([self.y, y])\n",
    "    def predict(self, x):\n",
    "        distance = np.array([np.linalg.norm(self.x - _x, axis=1) for _x in x])\n",
    "        index = np.argsort(distance, axis=1)\n",
    "        k_nearest = np.array([np.argmax(np.bincount(self.y[_index < self.k])) for _index in index])\n",
    "        return k_nearest"
   ]
  },
  {
   "cell_type": "code",
   "execution_count": 308,
   "metadata": {},
   "outputs": [
    {
     "data": {
      "image/png": "[encoded data removed]",
      "text/plain": [
       "<Figure size 432x288 with 1 Axes>"
      ]
     },
     "metadata": {
      "needs_background": "light"
     },
     "output_type": "display_data"
    }
   ],
   "source": [
    "color = np.repeat(\"\", 120)\n",
    "color[y_train == 0] = \"b\"\n",
    "color[y_train == 1] = \"r\"\n",
    "color[y_train == 2] = \"g\"\n",
    "plt.scatter(x_train[:, 0], x_train[:, 1], color=color)\n",
    "color = np.repeat(\"\", 30)\n",
    "color[y_test == 0] = \"c\"\n",
    "color[y_test == 1] = \"m\"\n",
    "color[y_test == 2] = \"y\"\n",
    "plt.scatter(x_test[:, 0], x_test[:, 1], color=color)\n",
    "\n",
    "plt.show()"
   ]
  },
  {
   "cell_type": "code",
   "execution_count": 303,
   "metadata": {},
   "outputs": [
    {
     "name": "stdout",
     "output_type": "stream",
     "text": [
      "[0 0 0 0 0 0 0 0 0 0 0 0 0 0 0 0 0 0 0 0 0 0 0 0 0 0 0 0 0 0 0 0 0 0 0 0 0\n",
      " 0 0 0 1 1 1 1 1 1 1 1 1 1 1 1 1 1 1 1 1 1 1 1 1 1 1 1 1 1 1 1 1 1 1 1 1 1\n",
      " 1 1 1 1 1 1 2 2 2 2 2 2 2 2 2 2 2 2 2 2 2 2 2 2 2 2 2 2 2 2 2 2 2 2 2 2 2\n",
      " 2 2 2 2 2 2 2 2 2]\n",
      "[2 2 2 2 2 2 2 2 2 2 1 1 1 1 1 1 1 1 1 1 0 0 0 0 0 0 0 0 0 0]\n"
     ]
    },
    {
     "data": {
      "text/plain": [
       "array([2, 2, 2, 2, 2, 2, 2, 2, 2, 2, 2, 2, 2, 1, 2, 2, 2, 2, 1, 2, 0, 0,\n",
       "       0, 0, 0, 0, 0, 0, 0, 0])"
      ]
     },
     "execution_count": 303,
     "metadata": {},
     "output_type": "execute_result"
    }
   ],
   "source": [
    "_x = x[:, [2,3]]\n",
    "_y = y\n",
    "test_index = set(np.arange(40,50)) | set(np.arange(90,100)) | set(np.arange(140,150))\n",
    "train_index = set(np.arange(0,150)) - test_index\n",
    "test_index = np.array(list(test_index))\n",
    "train_index = np.array(list(train_index))\n",
    "x_train = _x[train_index]\n",
    "y_train = _y[train_index]\n",
    "x_test = _x[test_index]\n",
    "y_test = _y[test_index]\n",
    "print(y_train)\n",
    "print(y_test)\n",
    "knn = KNearestNeighbor(k=5)\n",
    "knn.fit(x_train,y_train)\n",
    "knn.predict(x_test)"
   ]
  },
  {
   "cell_type": "markdown",
   "metadata": {},
   "source": [
    "# 決定木"
   ]
  },
  {
   "cell_type": "markdown",
   "metadata": {},
   "source": [
    "ノンパラメトリック手法の1つで、入力空間を分割することでクラスを分類する。(回帰ならばそのクラスに定数値を割り当てる。)分割の仕方は、IG(Information Gain)がより大きくなるように行う。ここで、\n",
    "\\begin{eqnarray*}\n",
    "IG = I_{parent} - \\Sigma_{child} \\frac{N_{child}}{N_{parent}} I_{child}\n",
    "\\end{eqnarray*}\n",
    "とする。IはImpurity(不純度)で、その指標として次の3つが提唱されている。\n",
    "- エントロピー\n",
    "$I_H = - \\Sigma_c p(c|t) \\log{p(c|t)}$\n",
    "- ジニ係数\n",
    "$I_G = \\Sigma_c p(c|t) (1 - p(c|t)) = 1 - \\Sigma_c p(c|t)^2$\n",
    "- 誤差分類率\n",
    "$I_E = 1 - max_c p(c|t)$  \n",
    "最初の木は1つのノードからなる(つまりすべてのデータ点が同じクラスに分類される)として、木を成長させていく。ノードを増やしていくことで分類境界が複雑になり、より表現力が上がる。最小化したい誤差関数を\n",
    "\\begin{eqnarray*}\n",
    "E = \\Sigma I + c | T |\n",
    "\\end{eqnarray*}\n",
    "とおく。ここで$|T|$は木のノード数であり、$\\Sigma$は木のノード全体に対して和をとる。$|T|$は正則化項に対応している。"
   ]
  },
  {
   "cell_type": "code",
   "execution_count": 69,
   "metadata": {},
   "outputs": [],
   "source": [
    "def entropy(c):\n",
    "    _, counts = np.unique(c, return_counts=True)\n",
    "    total_counts = np.sum(counts)\n",
    "    ps = counts / total_counts\n",
    "    IH = np.sum(- ps * np.log(ps))\n",
    "    return IH\n",
    "\n",
    "def gini(c):\n",
    "    _, counts = np.unique(c, return_counts=True)\n",
    "    total_counts = np.sum(counts)\n",
    "    ps = counts / total_counts\n",
    "    IG = 1 - np.sum(ps**2)\n",
    "    return IG\n",
    "\n",
    "def error_rate(c):\n",
    "    _, counts = np.unique(c, return_counts=True)\n",
    "    total_counts = np.sum(counts)\n",
    "    ps = counts / total_counts\n",
    "    IE = 1 - np.max(ps)\n",
    "    return IE\n",
    "\n",
    "class DecisionTree():\n",
    "    def __init__(self, x=np.array([]), y=np.array([]), impurity=entropy):\n",
    "        self.x = x\n",
    "        self.y = y\n",
    "        self.label = np.argmax(np.bincount(y)) if (y.size > 0) else None\n",
    "        self.impurity = impurity\n",
    "        self.condition = None\n",
    "        self.left = None\n",
    "        self.right = None\n",
    "    def search(self, x):\n",
    "        if (self.condition):\n",
    "            truth_value = self.condition(x)\n",
    "            if (truth_value):\n",
    "                return self.left.search(x)\n",
    "            else:\n",
    "                return self.right.search(x)\n",
    "        else:\n",
    "            return self.label\n",
    "    def expand(self, condition):\n",
    "        self.condition = condition\n",
    "        truth_values = np.array([self.condition(_x) for _x in self.x])\n",
    "        left = DecisionTree(x=self.x[truth_values == True], y=self.y[truth_values == True], impurity=self.impurity)\n",
    "        right = DecisionTree(x=self.x[truth_values == False], y=self.y[truth_values == False], impurity=self.impurity)\n",
    "        self.left = left\n",
    "        self.right = right\n",
    "    def cut(self):\n",
    "        self.condition = None\n",
    "        self.left = None\n",
    "        self.right = None\n",
    "    def information_gain(self):\n",
    "        I_parent = self.impurity(self.y)\n",
    "        if (self.left or self.right):\n",
    "            I_left = self.impurity(self.left.y)\n",
    "            I_right = self.impurity(self.right.y)\n",
    "            n_parent = len(self.y)\n",
    "            n_left = len(self.left.y)\n",
    "            n_right = len(self.right.y)\n",
    "            IG = I_parent - I_left*n_left/n_parent - I_right*n_right/n_parent\n",
    "        else:\n",
    "            IG = 0\n",
    "        return IG"
   ]
  },
  {
   "cell_type": "code",
   "execution_count": 74,
   "metadata": {},
   "outputs": [],
   "source": [
    "class DecisionTreeClassifier(DecisionTree):\n",
    "    def __init__(self):\n",
    "        pass\n",
    "    def fit(self, x, y):\n",
    "        super().__init__(x, y)\n",
    "    def predict(self, x):\n",
    "        labels = np.array([self.search(_x) for _x in x])\n",
    "        return labels"
   ]
  },
  {
   "cell_type": "code",
   "execution_count": 75,
   "metadata": {},
   "outputs": [
    {
     "data": {
      "text/plain": [
       "array([2, 0, 0, 0, 0, 2, 0, 0, 0, 0, 2, 0, 0, 0, 2, 2, 2, 2, 2, 2, 2, 2,\n",
       "       0, 2, 0, 0, 0, 2, 2, 0, 0, 2, 2, 2, 0, 0, 2, 0, 0, 2, 0, 0, 0, 0,\n",
       "       2, 0, 2, 0, 2, 0, 2, 2, 2, 1, 1, 1, 2, 0, 1, 1, 0, 2, 1, 1, 1, 2,\n",
       "       2, 1, 1, 1, 2, 1, 1, 1, 1, 2, 1, 2, 1, 1, 1, 1, 1, 1, 2, 2, 2, 1,\n",
       "       2, 1, 1, 2, 1, 0, 1, 2, 1, 1, 1, 1, 2, 1, 2, 1, 2, 2, 0, 1, 1, 2,\n",
       "       2, 1, 2, 1, 1, 2, 2, 2, 1, 1, 2, 1, 1, 1, 2, 2, 1, 2, 1, 2, 1, 2,\n",
       "       1, 1, 1, 2, 2, 2, 2, 2, 2, 2, 1, 2, 2, 2, 1, 2, 2, 2])"
      ]
     },
     "execution_count": 75,
     "metadata": {},
     "output_type": "execute_result"
    }
   ],
   "source": [
    "tree = DecisionTreeClassifier()\n",
    "tree.fit(x, y)\n",
    "tree.expand(lambda x: x[0] > 5.0)\n",
    "tree.left.expand(lambda x: x[1] < 3.0)\n",
    "tree.predict(x)"
   ]
  },
  {
   "cell_type": "markdown",
   "metadata": {},
   "source": [
    "# KMeans"
   ]
  },
  {
   "cell_type": "markdown",
   "metadata": {},
   "source": [
    "EMアルゴリズムを利用したアルゴリズムの1つである。データセットをいくつかのクラスタに分割することを目標とする。\n",
    "アルゴリズムでは、\n",
    "- E step  \n",
    "各データ点について、最も近いクラスタ中心のクラスタを割り当てる。\n",
    "- M step  \n",
    "各クラスタについて、それに属しているデータ点すべての平均をとり、新しいクラスタ中心とする。 \n",
    "の2ステップを反復実行して解を求める。\n",
    "\n",
    "初期値をランダムに決めると収束が遅いことがある。これを改善するためにK-means++という手法がある。K-means++では以下のようにしてクラスタ中心を決定する。\n",
    "> 1. データ点をランダムに1つ選ぶ。\n",
    "> 2. クラスタ中心がk個選ばれるまで以下を繰り返す。\n",
    ">> 各データ点$\\vec{x}$について最も近いクラスタ中心までの距離を$D(\\vec{x})$とする。このとき\n",
    "\\begin{eqnarray*}\n",
    "p(\\vec{x}) = \\frac{D(\\vec{x})^2}{\\Sigma D(\\vec{x})^2}\n",
    "\\end{eqnarray*}\n",
    ">> という確率分布に従って次のクラスタ中心を(データ点の中から)選ぶ。"
   ]
  },
  {
   "cell_type": "markdown",
   "metadata": {},
   "source": [
    "# 混合ガウスモデル"
   ]
  },
  {
   "cell_type": "markdown",
   "metadata": {},
   "source": [
    "$$\n",
    "p({\\bf x}) \\equiv \\sum_{k=1}^K \\pi_k N({\\bf x} | {\\bf \\mu_k}, \\Sigma_k)\n",
    "$$\n",
    "\n",
    "潜在変数${\\bf z}$\n",
    "$$\n",
    "p(z_k = 1) = \\pi_k \\\\\n",
    "\\sum_{k=1}^K z_k = 1 \\\\\n",
    "\\sum_{k=1}^K \\pi_k = 1\n",
    "$$\n",
    "\n",
    "$$\n",
    "p({\\bf z}) = \\prod_{k=1}^K \\pi_k^{z_k} \\\\\n",
    "p({\\bf x} | z_k = 1) = \\mathcal{N} ({\\bf x} | \\mu_k, \\Sigma_k) \\\\\n",
    "p({\\bf x} | {\\bf z}) = \\prod_{k=1}^K \\mathcal{N} ({\\bf x} | \\mu_k, \\Sigma_k)^{z_k} \\\\\n",
    "p({\\bf x}) = \\sum_{\\bf z} p({\\bf x} | {\\bf z}) p({\\bf z}) = \\sum_{k=1}^K \\pi_k \\mathcal{N}({\\bf x} | {\\bf \\mu_k}, \\Sigma_k) \\\\\n",
    "\\gamma(z_k) \\equiv p(z_k=1 | {\\bf x}) = \\frac{p(z_k=1)p({\\bf x} | z_k=1)}{\\sum_{j=1}^K p(z_j=1)p({\\bf x} | z_j=1)}\n",
    "$$"
   ]
  },
  {
   "cell_type": "markdown",
   "metadata": {},
   "source": [
    "$$\n",
    "p({\\bf x_n}) = \\sum_{k=1}^K \\pi_k \\mathcal{N}({\\bf x_n} | {\\bf \\mu_k}, \\Sigma_k) \\\\\n",
    "\\log p(X) = \\sum_{n=1}^N \\log p({\\bf x_n}) \\\\\n",
    "L = - \\log p(X) + \\sum_{k=1}^K \\pi_k \\\\\n",
    "\\frac{\\partial}{\\partial \\pi_k} L = 1 - \\sum_{n=1}^N \\mathcal{N}({\\bf x_n} | {\\bf \\mu_k}, \\Sigma_k) \\\\\n",
    "\\frac{\\partial}{\\partial \\mu_k} L = \\sum_{n=1}^N \\frac{\\pi_k \\mathcal{N}({\\bf x_n} | {\\bf \\mu_k}, \\Sigma_k)}{\\sum_{k=1}^K \\mathcal{N}({\\bf x_n} | {\\bf \\mu_k}, \\Sigma_k)} \\Sigma_k^{-1} ({\\bf x_n} - {\\bf \\mu_k}) = \\sum_{n=1}^N \\gamma_{nk} \\Sigma_k^{-1} ({\\bf x_n} - {\\bf \\mu_k}) \\\\\n",
    "\\frac{\\partial}{\\partial \\Sigma_k} L = \\sum_{n=1}^N \\frac{\\pi_k \\mathcal{N}({\\bf x_n} | {\\bf \\mu_k}, \\Sigma_k)}{\\sum_{k=1}^K \\mathcal{N}({\\bf x_n} | {\\bf \\mu_k}, \\Sigma_k)} (- \\frac{1}{2} \\Sigma_k^{-1} + \\frac{1}{2} \\Sigma_k^{-1} ({\\bf x_n} - {\\bf \\mu_k}) ({\\bf x_n} - {\\bf \\mu_k})^T \\Sigma_k^{-1}) = \\sum_{n=1}^N \\gamma_{nk} (- \\frac{1}{2} \\Sigma_k^{-1} + \\frac{1}{2} \\Sigma_k^{-1} ({\\bf x_n} - {\\bf \\mu_k}) ({\\bf x_n} - {\\bf \\mu_k})^T \\Sigma_k^{-1}) \\\\\n",
    "$$\n",
    "\n",
    "$$\n",
    "\\pi_k = \\sum_{n=1}^N \\mathcal{N}({\\bf x_n} | {\\bf \\mu_k}, \\Sigma_k) \\\\\n",
    "\\mu_k = \\frac{\\sum_{n=1}^N \\gamma_{nk} {\\bf x_n}}{\\sum_{n=1}^N \\gamma_{nk}} \\\\\n",
    "\\Sigma_k = \\frac{\\sum_{n=1}^N \\gamma_{nk} ({\\bf x_n} - {\\bf \\mu_k}) ({\\bf x_n} - {\\bf \\mu_k})^T}{\\sum_{n=1}^N \\gamma_{nk}}\n",
    "$$"
   ]
  },
  {
   "cell_type": "markdown",
   "metadata": {},
   "source": [
    "$$\n",
    "\\frac{\\partial}{\\partial \\mu} \\mathcal{N} = \\Sigma^{-1} ({\\bf x} - {\\bf \\mu}) \\\\\n",
    "\\frac{\\partial}{\\partial \\Sigma} \\mathcal{N} = \\frac{\\partial}{\\partial \\Sigma} \\exp (\\log(\\mathcal{N})) = \\mathcal{N} \\frac{\\partial}{\\partial \\Sigma} \\log(\\mathcal{N}) \\\\\n",
    "$$\n",
    "\n",
    "$$\n",
    "\\frac{\\partial}{\\partial \\Sigma} \\log |\\Sigma| = \\Sigma^{-T} \\\\\n",
    "\\frac{\\partial}{\\partial x} A^{-1} = - A^{-1} \\left( \\frac{\\partial}{\\partial x} A \\right) A^{-1}\n",
    "$$"
   ]
  },
  {
   "cell_type": "code",
   "execution_count": 359,
   "metadata": {},
   "outputs": [],
   "source": [
    "class KMeans():\n",
    "    def __init__(self, k):\n",
    "        self.k = k\n",
    "        self.centroid = []\n",
    "        self.category = []\n",
    "    def e_step(self, x):\n",
    "        loss = np.zeros(x.shape[0], self.k)\n",
    "        for l in range(k):\n",
    "            loss[:, l] = np.linalg.norm(x - self.centroid[k].reshape(-1,1), axis=0)\n",
    "        self.category = np.argmin(loss, axis=1)\n",
    "        return self.category\n",
    "    def m_step(self, x):\n",
    "        self.centroid = np.zeros(x.shape[1], self.k)\n",
    "        for l in range(k):\n",
    "            x_l = x[:, category==l]\n",
    "            self.centroid[:, k] = np.mean(x_l, axis=1)\n",
    "        return self.centroid\n",
    "    def fit(self, x, iteration=10):\n",
    "        for _ in range(iteration):\n",
    "            category = e_step(x)\n",
    "            centroid = m_step(x)"
   ]
  },
  {
   "cell_type": "markdown",
   "metadata": {},
   "source": [
    "# 主成分分析"
   ]
  },
  {
   "cell_type": "markdown",
   "metadata": {},
   "source": [
    "$n$次元データ$\\vec{x}$を$m (m<n)$次元データに射影することを考える。射影行列を$T \\in M_{mn}$とすると、$T \\vec{x}$は平面上に射影されたデータ点である。これをもとの$n$次元空間に引き戻したときにもとのデータとの誤差が小さくなるように射影する。すなわち\n",
    "\\begin{eqnarray*}\n",
    "T^{\\ast} = argmin_T || T^T T \\vec{x} - \\vec{x} ||^2\n",
    "\\end{eqnarray*}\n",
    "を求める。"
   ]
  },
  {
   "cell_type": "code",
   "execution_count": 360,
   "metadata": {},
   "outputs": [],
   "source": [
    "def Pca():\n",
    "    def __init__(self, input_dim, output_dim):\n",
    "        self.T = np.zeros((input_dim, output_dim))\n",
    "        self.input_dim = input_dim\n",
    "        self.output_dim = output_dim\n",
    "    def fit(self, x):\n",
    "        C = np.dot(x.T, x)\n",
    "        eigen_vals, eigen_vecs = np.linalg.eig(C)\n",
    "        eigen_vals, eigen_vecs = eigen_vals[::-1], eigen_vecs[::-1]\n",
    "        self.T = eigen_vecs[:output_dim]\n",
    "        return self.T\n",
    "    def transform(self, x):\n",
    "        y = np.dot(self.T, x)\n",
    "        return y"
   ]
  },
  {
   "cell_type": "markdown",
   "metadata": {},
   "source": [
    "# 線形判別分析"
   ]
  },
  {
   "cell_type": "markdown",
   "metadata": {},
   "source": [
    "データを射影することを考える。この際に「クラス間分散が大きく」「クラス内分散が小さく」なるように射影する平面を決める。"
   ]
  },
  {
   "cell_type": "code",
   "execution_count": null,
   "metadata": {},
   "outputs": [],
   "source": []
  },
  {
   "cell_type": "markdown",
   "metadata": {},
   "source": [
    "# FFNN"
   ]
  },
  {
   "cell_type": "markdown",
   "metadata": {},
   "source": [
    "\\begin{eqnarray*}\n",
    "\\frac{\\partial}{\\partial x} x + y &=& 1 \\\\\n",
    "\\frac{\\partial}{\\partial y} x + y &=& 1 \\\\\n",
    "\\frac{\\partial}{\\partial x} x * y &=& y \\\\\n",
    "\\frac{\\partial}{\\partial y} x * y &=& x\n",
    "\\end{eqnarray*}\n",
    "\n",
    "\\begin{eqnarray*}\n",
    "Z = X + Y \\\\\n",
    "(\\frac{\\partial}{\\partial X} L(Z))_{ij} &=&\n",
    "\\Sigma_{kl} \\frac{\\partial}{\\partial z_{kl}} L(Z) \\frac{\\partial}{\\partial x_{ij}} z_{kl} =\n",
    "\\Sigma_{kl} \\frac{\\partial}{\\partial z_{kl}} L(Z) \\frac{\\partial}{\\partial x_{ij}} (x_{kl} + y_{kl}) =\n",
    "\\frac{\\partial}{\\partial z_{ij}} L(Z) =\n",
    "(\\frac{\\partial}{\\partial Z} L(Z))_{ij} \\\\\n",
    "Z = X Y \\\\\n",
    "(\\frac{\\partial}{\\partial X} L(Z))_{ij} &=&\n",
    "\\Sigma_{kl} \\frac{\\partial}{\\partial z_{kl}} L(Z) \\frac{\\partial}{\\partial x_{ij}} z_{kl} =\n",
    "\\Sigma_{kl} \\frac{\\partial}{\\partial z_{kl}} L(Z) \\frac{\\partial}{\\partial x_{ij}} (\\Sigma_m x_{km} y_{ml}) =\n",
    "\\Sigma_{l} \\frac{\\partial}{\\partial z_{il}} L(Z) y_{jl} =\n",
    "(\\frac{\\partial}{\\partial Z} L(Z) Y^T)_{ij} \\\\\n",
    "(\\frac{\\partial}{\\partial Y} L(Z))_{ij} &=&\n",
    "\\Sigma_{kl} \\frac{\\partial}{\\partial z_{kl}} L(Z) \\frac{\\partial}{\\partial y_{ij}} z_{kl} =\n",
    "\\Sigma_{kl} \\frac{\\partial}{\\partial z_{kl}} L(Z) \\frac{\\partial}{\\partial y_{ij}} (\\Sigma_m x_{km} y_{ml}) =\n",
    "\\Sigma_{k} \\frac{\\partial}{\\partial z_{kj}} L(Z) x_{ki} =\n",
    "(X^T \\frac{\\partial}{\\partial Z} L(Z))_{ij}\n",
    "\\end{eqnarray*}"
   ]
  },
  {
   "cell_type": "markdown",
   "metadata": {},
   "source": []
  },
  {
   "cell_type": "code",
   "execution_count": 313,
   "metadata": {},
   "outputs": [],
   "source": [
    "class AddLayer():\n",
    "    def __init__(self):\n",
    "        self.x = None\n",
    "        self.y = None\n",
    "    def forward(self, x, y):\n",
    "        self.x = x\n",
    "        self.y = y\n",
    "        out = x + y\n",
    "        return out\n",
    "    def backward(self, dout):\n",
    "        dx = dout\n",
    "        dy = dout\n",
    "        return dx, dy\n",
    "    \n",
    "class MulLayer():\n",
    "    def __init__(self):\n",
    "        self.x = None\n",
    "        self.y = None\n",
    "    def forward(self, x, y):\n",
    "        self.x = x\n",
    "        self.y = y\n",
    "        out = x * y\n",
    "        return out\n",
    "    def backward(self, dout):\n",
    "        dx = dout * self.y\n",
    "        dy = dout * self.x\n",
    "        return dx, dy\n",
    "    \n",
    "class MatAddLayer():\n",
    "    def __init__(self):\n",
    "        pass\n",
    "    def forward(self, x, y):\n",
    "        out = x + y\n",
    "        return out\n",
    "    def backward(self, dout):\n",
    "        dx = dout\n",
    "        dy = dout\n",
    "        return dx, dy\n",
    "\n",
    "class MatMulLayer():\n",
    "    def __init__(self):\n",
    "        self.x = None\n",
    "        self.y = None\n",
    "    def forward(self, x, y):\n",
    "        self.x = x\n",
    "        self.y = y\n",
    "        return np.dot(x, y)\n",
    "    def backward(self, dout):\n",
    "        dx = np.dot(dout, self.y.T)\n",
    "        dy = np.dot(self.x.T, dout)\n",
    "        return dx, dy\n",
    "\n",
    "class Relu():\n",
    "    def __init__(self):\n",
    "        self.mask = None\n",
    "    def forward(self, x):\n",
    "        self.mask = x <= 0\n",
    "        out = x.copy()\n",
    "        out[self.mask] = 0\n",
    "        return out\n",
    "    def backward(self, dout):\n",
    "        dx = dout.copy()\n",
    "        dx[self.mask] = 0\n",
    "        return dx\n",
    "        \n",
    "class Sigmoid():\n",
    "    def __init__(self):\n",
    "        self.x = None\n",
    "    def forward(self, x):\n",
    "        self.x = x\n",
    "        out = 1 / (1 + np.exp(-x))\n",
    "        return out\n",
    "    def backward(self, dout):\n",
    "        dx = dout * self.x * (1 - self.x)\n",
    "        return dx"
   ]
  },
  {
   "cell_type": "code",
   "execution_count": null,
   "metadata": {},
   "outputs": [],
   "source": []
  },
  {
   "cell_type": "markdown",
   "metadata": {},
   "source": [
    "# CNN"
   ]
  },
  {
   "cell_type": "code",
   "execution_count": null,
   "metadata": {},
   "outputs": [],
   "source": []
  },
  {
   "cell_type": "code",
   "execution_count": null,
   "metadata": {},
   "outputs": [],
   "source": []
  },
  {
   "cell_type": "markdown",
   "metadata": {},
   "source": [
    "# RNN"
   ]
  },
  {
   "cell_type": "code",
   "execution_count": null,
   "metadata": {},
   "outputs": [],
   "source": []
  },
  {
   "cell_type": "code",
   "execution_count": null,
   "metadata": {},
   "outputs": [],
   "source": []
  },
  {
   "cell_type": "markdown",
   "metadata": {},
   "source": [
    "# LSTM"
   ]
  },
  {
   "cell_type": "code",
   "execution_count": null,
   "metadata": {},
   "outputs": [],
   "source": []
  },
  {
   "cell_type": "code",
   "execution_count": null,
   "metadata": {},
   "outputs": [],
   "source": []
  },
  {
   "cell_type": "markdown",
   "metadata": {},
   "source": [
    "# GRU"
   ]
  },
  {
   "cell_type": "code",
   "execution_count": null,
   "metadata": {},
   "outputs": [],
   "source": []
  },
  {
   "cell_type": "code",
   "execution_count": null,
   "metadata": {},
   "outputs": [],
   "source": []
  },
  {
   "cell_type": "markdown",
   "metadata": {},
   "source": [
    "# word2vec"
   ]
  },
  {
   "cell_type": "code",
   "execution_count": null,
   "metadata": {},
   "outputs": [],
   "source": []
  },
  {
   "cell_type": "code",
   "execution_count": null,
   "metadata": {},
   "outputs": [],
   "source": []
  },
  {
   "cell_type": "markdown",
   "metadata": {},
   "source": [
    "# seq2seq"
   ]
  },
  {
   "cell_type": "code",
   "execution_count": null,
   "metadata": {},
   "outputs": [],
   "source": []
  },
  {
   "cell_type": "code",
   "execution_count": null,
   "metadata": {},
   "outputs": [],
   "source": []
  },
  {
   "cell_type": "markdown",
   "metadata": {},
   "source": [
    "# Attention"
   ]
  },
  {
   "cell_type": "code",
   "execution_count": null,
   "metadata": {},
   "outputs": [],
   "source": []
  },
  {
   "cell_type": "code",
   "execution_count": null,
   "metadata": {},
   "outputs": [],
   "source": []
  },
  {
   "cell_type": "markdown",
   "metadata": {},
   "source": [
    "# 固有値分解"
   ]
  },
  {
   "cell_type": "markdown",
   "metadata": {},
   "source": []
  },
  {
   "cell_type": "code",
   "execution_count": null,
   "metadata": {},
   "outputs": [],
   "source": []
  },
  {
   "cell_type": "markdown",
   "metadata": {},
   "source": [
    "# 一般化固有値分解"
   ]
  },
  {
   "cell_type": "markdown",
   "metadata": {},
   "source": []
  },
  {
   "cell_type": "code",
   "execution_count": null,
   "metadata": {},
   "outputs": [],
   "source": []
  },
  {
   "cell_type": "markdown",
   "metadata": {},
   "source": [
    "# スペクトル分解"
   ]
  },
  {
   "cell_type": "markdown",
   "metadata": {},
   "source": []
  },
  {
   "cell_type": "code",
   "execution_count": null,
   "metadata": {},
   "outputs": [],
   "source": []
  },
  {
   "cell_type": "markdown",
   "metadata": {},
   "source": [
    "# 特異値分解"
   ]
  },
  {
   "cell_type": "markdown",
   "metadata": {},
   "source": [
    "行列$A \\in M_{mn}$を直交行列$W \\in M_m, V \\in M_n$と対角行列$\\Sigma \\in M_{mn}$に分解することを考える。つまり\n",
    "\\begin{eqnarray}\n",
    "A = W \\Sigma V^T\n",
    "\\end{eqnarray}\n",
    "となるような$W, \\Sigma, V$を求める。特異値分解は一般の行列$A$に対して常に可能である。  \n",
    "$A^T A$は半正定値対称行列であるから、固有値分解することができて\n",
    "\\begin{eqnarray}\n",
    "V^T A^T A V = diag(\\sigma_1^2, \\dots, \\sigma_n^2)\n",
    "\\end{eqnarray}\n",
    "となる。ここで$V$は固有値ベクトルを並べたもので$V = (\\vec{v}_1, \\dots, \\vec{v}_n)$である。この$V$は直交行列である。(便宜上、$\\sigma_1 \\ge \\sigma_2 \\ge \\dots \\sigma_k > \\sigma_{k+1} = \\dots \\sigma_n = 0$と仮定する。また、$m \\ge n$としても一般性を失わない。$m < n$ならば転置をとったものについて特異値分解を行えば同様の議論ができる。)  \n",
    "$V_1, W_1$を次のように定義する。\n",
    "\\begin{eqnarray}\n",
    "V_1 &=&(\\vec{v}_1, \\dots, \\vec{v}_k)\n",
    "W_1 &=& A V_1 diag(\\sigma_1, \\dots, \\sigma_k) \\in M_{mk}\n",
    "\\end{eqnarray}\n",
    "$W_2 \\in M_{m, m-k}$を$W_1$と直交するように構成することができる。(グラムシュミットの直交化法を用いる。)このとき、$W_1$の定義より$W_2$は$A V_1$とも直交することがわかる。よって、$W = (W_1, W_2)$とすればこれは直交行列であって\n",
    "\\begin{eqnarray}\n",
    "W^T A V_1 = (W_1^T A V_1, W_2^T A V_1)^T = (diag(\\sigma_1, \\dots, \\sigma_k), O_{m_k, k})^T\n",
    "\\end{eqnarray}\n",
    "が成立する。また、$V_2 = (\\vec{v}_{k+1}, \\dots, \\vec{v}_n)$とすると、\n",
    "\\begin{eqnarray}\n",
    "V_2^T A^T A V_2 = O_{m-k}\n",
    "\\end{eqnarray}\n",
    "となる。$|| A V_2 || = 0$すなわち$A V_2 = \\vec{0}$が従うので、結局\n",
    "\\begin{eqnarray}\n",
    "W^T A V = W^T A (V_1, V_2) = \n",
    "\\left(\n",
    "\\begin{array}{cc}\n",
    "(diag(\\sigma_1, \\dots, \\sigma_k) & O_{hoge} \\\\\n",
    "O_{m_k, k} & O_{hoge}\n",
    "\\end{array}\n",
    "\\right)\n",
    "\\end{eqnarray}"
   ]
  },
  {
   "cell_type": "code",
   "execution_count": null,
   "metadata": {},
   "outputs": [],
   "source": []
  },
  {
   "cell_type": "markdown",
   "metadata": {},
   "source": [
    "\\begin{eqnarray*}\n",
    "L_k A_k L^T_k = \n",
    "\\left(\n",
    "\\begin{array}{ccc}\n",
    "I_k & \\vec{0} & O \\\\\n",
    "\\vec{0}^T & \\sqrt{a_{k+1, k+1}} & \\vec{0}^T \\\\\n",
    "O & \\frac{\\vec{a_{k+1}}}{\\sqrt{a_{k+1, k+1}}} & I_{n-k-1}\n",
    "\\end{array}\n",
    "\\right)\n",
    "\\left(\n",
    "\\begin{array}{ccc}\n",
    "I_k & \\vec{0} & \\ast \\\\\n",
    "\\vec{0}^T & a_{k+1, k+1} & \\vec{a_{k+1}}^T \\\\\n",
    "O & \\vec{a_{k+1}} & \\ast\n",
    "\\end{array}\n",
    "\\right)\n",
    "\\left(\n",
    "\\begin{array}{ccc}\n",
    "I_k & \\vec{0} & O \\\\\n",
    "\\vec{0}^T & \\sqrt{a_{k+1, k+1}} & \\vec{0}^T \\\\\n",
    "O & \\frac{\\vec{a_{k+1}}}{\\sqrt{a_{k+1, k+1}}} & I_{n-k-1}\n",
    "\\end{array}\n",
    "\\right)\n",
    "\\end{eqnarray*}"
   ]
  },
  {
   "cell_type": "markdown",
   "metadata": {},
   "source": [
    "# LU分解"
   ]
  },
  {
   "cell_type": "markdown",
   "metadata": {},
   "source": [
    "行列$A$を下三角行列$L$と上三角行列$U$に分解することを考える。つまり\n",
    "\\begin{eqnarray*}\n",
    "A = L U\n",
    "\\end{eqnarray*}\n",
    "となるような$L, U$を求める。適当な条件下でLU分解可能であるが、自由度が存在するため、ある成分を固定する。クラウト法では$L$の対角成分を1とし、外積形式ガウス法では$U$の対角成分を1として$L, U$を求める。\n",
    "まず、クラウト法では\n",
    "\\begin{eqnarray*}\n",
    "a_{ii} = l_{ii} u_{ii} = u_{ii} \\\\\n",
    "a_{ij} = \\Sigma_k l_{ik} u_{kj} = l_{il} u_{lj} + \\Sigma_k l_{ik} u_{kj}\n",
    "\\end{eqnarray*}\n",
    "となるので、\n",
    "\\begin{eqnarray*}\n",
    "u_{ii} &=& a_{ii} \\\\\n",
    "l_{ij} &=& (a_{ij} - \\Sigma_k l_{ik} u_{kj}) / u_{jj} \\\\\n",
    "u_{ij} &=& a_{ij} - \\Sigma_k l_{ik} u_{kj}\n",
    "\\end{eqnarray*}"
   ]
  },
  {
   "cell_type": "code",
   "execution_count": null,
   "metadata": {},
   "outputs": [],
   "source": [
    "def lu_factorization(A):\n",
    "    A = A.copy()\n",
    "    L = np.zeros_like(A).astype(np.float64)\n",
    "    U = np.zeros_like(A).astype(np.float64)\n",
    "    L[0:1, 0:1] = 1.0\n",
    "    U[0:1, 0:1] = A[0, 0]\n",
    "    if A.shape[0] > 1:\n",
    "        L[1:, 0:1] = 1.0 * A[1:, 0:1] / A[0, 0]\n",
    "        U[0:1, 1:] = A[0:1, 1:]\n",
    "        L[1:, 1:], U[1:, 1:] = lu_factorization(A[1:, 1:] - np.dot(L[1:, 0:1], U[0:1, 1:]))\n",
    "    return L, U"
   ]
  },
  {
   "cell_type": "code",
   "execution_count": null,
   "metadata": {},
   "outputs": [],
   "source": [
    "def lu_factorization_with_pivoting(A):\n",
    "    P = np.eye(A.shape[0], A.shape[1])\n",
    "    L = np.eye(A.shape[0], A.shape[1])\n",
    "    U = A.copy()\n",
    "    \n",
    "    for k in range(A.shape[0]-1):\n",
    "        l = np.argmax(U[k:, k]) + k\n",
    "\n",
    "        p = np.eye(A.shape[0], A.shape[1])\n",
    "        p[k, k] = 0.0; p[l, l] = 0.0; p[k, l] = 1.0; p[l, k] = 1.0\n",
    "        P = np.dot(p, P)\n",
    "        \n",
    "        L[k, :k], L[l, :k] = L[l, :k].copy(), L[k, :k].copy()\n",
    "        U[k], U[l] = U[l].copy(), U[k].copy()\n",
    "        \n",
    "        L[k+1:, k:k+1] = U[k+1:, k:k+1] / U[k, k]\n",
    "        U[k+1:, k:] -= L[k+1:, k:k+1] * U[k:k+1, k:]\n",
    "        \n",
    "    return P, L, U"
   ]
  },
  {
   "cell_type": "markdown",
   "metadata": {},
   "source": [
    "# QR分解"
   ]
  },
  {
   "cell_type": "markdown",
   "metadata": {},
   "source": [
    "行列$A$を直交行列$Q$と上三角行列$R$に分解することを考える。つまり\n",
    "\\begin{eqnarray*}\n",
    "A = Q R\n",
    "\\end{eqnarray*}\n",
    "となるような$Q, R$を求める。QR分解ではハウスホルダー変換を利用する。ハウスホルダー変換はある超平面に関する鏡映変換である。その超平面に直交する単位ベクトルを$\\vec{v}$とすると、\n",
    "\\begin{eqnarray*}\n",
    "H(\\vec{v}) \\equiv I - 2 \\vec{v} \\vec{v}^T\n",
    "\\end{eqnarray*}\n",
    "はこの変換の表現行列である。これをハウスホルダー行列と言う。   \n",
    "$A = (\\vec{a}_1, \\dots, \\vec{a}_n)$として\n",
    "\\begin{eqnarray*}\n",
    "\\vec{x} &\\equiv& \\vec{a}_1 \\\\\n",
    "\\vec{y} &\\equiv& (||\\vec{x}||, 0, \\dots, 0)^T \\\\\n",
    "\\vec{v} &\\equiv& \\frac{x - y}{|| x-y ||}\n",
    "\\end{eqnarray*}\n",
    "と定義する。このとき、この$\\vec{v}$に関するハウスホルダー行列$H$を考えると\n",
    "\\begin{eqnarray*}\n",
    "H x &=& y \\\\\n",
    "H y &=& x\n",
    "\\end{eqnarray*}\n",
    "が成立する。  \n",
    "$A$に直交行列を左からかけることで上三角行列に変換することを考える。$k$ステップ目の$R$を$R_k$とおき、$k$ステップ目にかける直交行列を$Q_k$とする。$R_k$の$k$次首座小行列が上三角であると仮定し、$k+1$行$k+1$列以降の行列を$R'_k$とおく。この行列$R'_k$に対して上のようにハウスホルダー行列を考えることができるので、これを$H_k$とおく。  \n",
    "ここで$Q_k$を\n",
    "\\begin{eqnarray*}\n",
    "Q_k = \n",
    "\\left(\n",
    "\\begin{array}{cc}\n",
    "I_k & O_{k, n-k} \\\\\n",
    "O_{n-k, k} & H_k\n",
    "\\end{array}\n",
    "\\right)\n",
    "\\end{eqnarray*}\n",
    "と定義すると、$Q_k$は直交行列になる。また\n",
    "\\begin{eqnarray*}\n",
    "Q_k R_k =\n",
    "\\left(\n",
    "\\begin{array}{cc}\n",
    "I_k & O_{k, n-k} \\\\\n",
    "O_{n-k, k} & H_k\n",
    "\\end{array}\n",
    "\\right)\n",
    "\\left(\n",
    "\\begin{array}\n",
    "I\\ast & \\ast \\\\\n",
    "\\ast & R'_k\n",
    "\\end{array}\n",
    "\\right) =\n",
    "\\left(\n",
    "\\begin{array}\n",
    "I\\ast & \\ast \\\\\n",
    "O_{n-k, k} & H_k R'_k\n",
    "\\end{array}\n",
    "\\right)\n",
    "\\end{eqnarray*}\n",
    "が成立する。k+1列について、k+2行以降は0となっているので、全体として$k+1$次首座小行列が上三角行列になっている。これを$R_{k+1}$とすれば帰納的に$R_n$を求めることができる。  \n",
    "以上の考察より、$R_n = Q_n Q_{n-1} \\dots Q_1 A$となっているから、\n",
    "\\begin{eqnarray*}\n",
    "Q &\\equiv& Q_1^T Q_2^T \\dots Q_n^T \\\\\n",
    "R &\\equiv& R_n\n",
    "\\end{eqnarray*}\n",
    "とすることで\n",
    "\\begin{eqnarray*}\n",
    "A = Q R\n",
    "\\end{eqnarray*}\n",
    "という分解を実現できる。"
   ]
  },
  {
   "cell_type": "code",
   "execution_count": null,
   "metadata": {},
   "outputs": [],
   "source": [
    "def vector_norm(x, p=2):\n",
    "    return np.sum(x**p)**(1.0/p)\n",
    "\n",
    "def householder_matrix(x, y):\n",
    "    w = x - y\n",
    "    H_k = np.eye(x.shape[0], y.shape[0]) - 2.0 * np.dot(w, w.T) / np.dot(w.T, w)\n",
    "    return H_k\n",
    "\n",
    "def transform_matrix(k, A):\n",
    "    x = A[:, 0:1]\n",
    "    y = np.zeros_like(x); y[0] = vector_norm(x)\n",
    "    H_k = np.zeros((A.shape[0]+k, A.shape[1]+k))\n",
    "    H_k[:k, :k] = np.eye(k, k)\n",
    "    H_k[k:, k:] = householder_matrix(x, y)\n",
    "    return H_k\n",
    "\n",
    "def qr_factorization(A):\n",
    "    Q = np.eye(A.shape[0], A.shape[1])\n",
    "    R = A.copy()\n",
    "    A_k = A.copy()\n",
    "    for k in range(A.shape[0]-1):\n",
    "        H_k = transform_matrix(k, A_k)\n",
    "        Q = np.dot(Q, H_k.T)\n",
    "        R = np.dot(H_k, R)\n",
    "        A_k = R[1:, 1:]\n",
    "    return Q, R"
   ]
  },
  {
   "cell_type": "markdown",
   "metadata": {},
   "source": [
    "# コレスキー分解"
   ]
  },
  {
   "cell_type": "markdown",
   "metadata": {},
   "source": [
    "$A$を正定値対称行列とすると、LU分解の特殊な場合として記述できる。"
   ]
  },
  {
   "cell_type": "markdown",
   "metadata": {},
   "source": [
    "$A$を正定値対称行列とする。このとき、上三角行列$L$を用いて\n",
    "\\begin{eqnarray*}\n",
    "A = L L^T\n",
    "\\end{eqnarray*}\n",
    "と分解することができる。(必要十分条件である。)  \n",
    "$A$に下三角行列を左右からかけることで単位行列にすることを考える。$k$ステップ目に左右からかける行列を$L_k, L_k^T$とし、そのときの$A$を$A_k$とおく。$A_k$の$k$次首座小行列が単位行列になっていると仮定する。$A_k$を\n",
    "\\begin{eqnarray*}\n",
    "A_k = \n",
    "\\left(\n",
    "\\begin{array}{ccc}\n",
    "I_k & \\vec{0} & \\ast \\\\\n",
    "\\vec{0}^T & a_{k+1, k+1} & \\vec{a_{k+1}}^T \\\\\n",
    "O & \\vec{a_{k+1}} & \\ast\n",
    "\\end{array}\n",
    "\\right)\n",
    "\\end{eqnarray*}\n",
    "とすると、$L_k$として\n",
    "\\begin{eqnarray*}\n",
    "L_k = \n",
    "\\left(\n",
    "\\begin{array}{ccc}\n",
    "I_k & \\vec{0} & O \\\\\n",
    "\\vec{0}^T & \\frac{1}{\\sqrt{a_{k+1, k+1}}} & \\vec{0}^T \\\\\n",
    "O & - \\sqrt{a_{k+1, k+1}} \\vec{a_{k+1}} & I_{n-k-1}\n",
    "\\end{array}\n",
    "\\right)\n",
    "\\end{eqnarray*}\n",
    "を選ぶ。すると\n",
    "\\begin{eqnarray*}\n",
    "L_k A_k L^T_k = \n",
    "\\left(\n",
    "\\begin{array}{ccc}\n",
    "I_k & \\vec{0} & O \\\\\n",
    "\\vec{0}^T & \\frac{1}{\\sqrt{a_{k+1, k+1}}} & \\vec{0}^T \\\\\n",
    "O & - \\sqrt{a_{k+1, k+1}} \\vec{a_{k+1}} & I_{n-k-1}\n",
    "\\end{array}\n",
    "\\right)\n",
    "\\left(\n",
    "\\begin{array}{ccc}\n",
    "I_k & \\vec{0} & \\ast \\\\\n",
    "\\vec{0}^T & a_{k+1, k+1} & \\vec{a_{k+1}}^T \\\\\n",
    "O & \\vec{a_{k+1}} & \\ast\n",
    "\\end{array}\n",
    "\\right)\n",
    "\\left(\n",
    "\\begin{array}{ccc}\n",
    "I_k & \\vec{0} & O \\\\\n",
    "\\vec{0}^T & \\frac{1}{\\sqrt{a_{k+1, k+1}}} & - \\sqrt{a_{k+1, k+1}} \\vec{a_{k+1}}^T \\\\\n",
    "O & \\vec{0} & I_{n-k-1}\n",
    "\\end{array}\n",
    "\\right)\n",
    "\\end{eqnarray*}"
   ]
  },
  {
   "cell_type": "code",
   "execution_count": null,
   "metadata": {},
   "outputs": [],
   "source": []
  },
  {
   "cell_type": "markdown",
   "metadata": {},
   "source": [
    "# QR法"
   ]
  },
  {
   "cell_type": "markdown",
   "metadata": {},
   "source": []
  },
  {
   "cell_type": "code",
   "execution_count": null,
   "metadata": {},
   "outputs": [],
   "source": [
    "def qr_method(A, limit=10):\n",
    "    A_k = A.copy()\n",
    "    for _ in range(limit):\n",
    "        Q_k, R_k = qr_factorization(A_k)\n",
    "        A_k = np.dot(R_k, Q_k)\n",
    "    return A_k\n",
    "\n",
    "def eigen_values(A, limit=10):\n",
    "    upper_triangle = qr_method(A)\n",
    "    eigen_vals = [upper_triangle[i][i] for i in range(upper_triangle.shape[0])]\n",
    "    return eigen_vals"
   ]
  },
  {
   "cell_type": "markdown",
   "metadata": {},
   "source": [
    "# 冪乗法"
   ]
  },
  {
   "cell_type": "markdown",
   "metadata": {},
   "source": []
  },
  {
   "cell_type": "code",
   "execution_count": null,
   "metadata": {},
   "outputs": [],
   "source": [
    "def normalize(x):\n",
    "    n = vector_norm(x)\n",
    "    return x / n\n",
    "\n",
    "def power_method(A, limit=10):\n",
    "    x_k = np.random.randn(A.shape[0])\n",
    "    for _ in range(limit):\n",
    "        y_k = A.dot(x_k)\n",
    "        x_k = normalize(y_k)\n",
    "    numerator = x_k.T.dot(A).dot(x_k)\n",
    "    denominator = x_k.T.dot(x_k)\n",
    "    return numerator / denominator"
   ]
  },
  {
   "cell_type": "markdown",
   "metadata": {},
   "source": [
    "# !!!その他のアルゴリズム(反復法など)!!!"
   ]
  },
  {
   "cell_type": "markdown",
   "metadata": {},
   "source": []
  },
  {
   "cell_type": "code",
   "execution_count": null,
   "metadata": {},
   "outputs": [],
   "source": []
  }
 ],
 "metadata": {
  "kernelspec": {
   "display_name": "Python 3",
   "language": "python",
   "name": "python3"
  },
  "language_info": {
   "codemirror_mode": {
    "name": "ipython",
    "version": 3
   },
   "file_extension": ".py",
   "mimetype": "text/x-python",
   "name": "python",
   "nbconvert_exporter": "python",
   "pygments_lexer": "ipython3",
   "version": "3.7.4"
  }
 },
 "nbformat": 4,
 "nbformat_minor": 2
}
