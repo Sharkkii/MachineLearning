{
 "cells": [
  {
   "cell_type": "markdown",
   "metadata": {},
   "source": [
    "# トイプロブレム(四則演算)\n",
    "\n",
    "### 演算\n",
    "```\n",
    "+, -, *, /, %, ^, (, )\n",
    "```\n",
    "\n",
    "### 生成文法\n",
    "\n",
    "```\n",
    "lower -> digit | digit lower\n",
    "uint -> digit | nonzero lower\n",
    "sint -> uint | - uint\n",
    "atom -> sint | (exp)\n",
    "exp -> atom [+-*/%^] atom\n",
    "```"
   ]
  },
  {
   "cell_type": "code",
   "execution_count": 66,
   "metadata": {},
   "outputs": [],
   "source": [
    "import numpy as np\n",
    "import pandas as pd\n",
    "class Problem():\n",
    "    def __init__(self, p_lower, p_uint, p_sint, p_atom, p_exp, ans_is_num=True):\n",
    "        self.p_lower = p_lower\n",
    "        self.p_uint = p_uint\n",
    "        self.p_sint = p_sint\n",
    "        self.p_atom = p_atom\n",
    "        self.p_exp = p_exp\n",
    "        self.ans_is_num = ans_is_num\n",
    "    def nonzero(self):\n",
    "        r = np.random.randint(1, 10)\n",
    "        x = str(r)\n",
    "        return x\n",
    "    def digit(self):\n",
    "        r = np.random.randint(0, 10)\n",
    "        x = str(r)\n",
    "        return x\n",
    "    def lower(self):\n",
    "        r = np.random.choice([True, False], p=self.p_lower)\n",
    "        x = self.digit() if r else self.digit() + self.lower()\n",
    "        return x\n",
    "    def uint(self):\n",
    "        r = np.random.choice([True, False], p=self.p_uint)\n",
    "        x = self.digit() if r else self.nonzero() + self.lower()\n",
    "        return x\n",
    "    def sint(self):\n",
    "        r = np.random.choice([True, False], p=self.p_sint)\n",
    "        x = self.uint() if r else \"(-\" + self.uint() + \")\"\n",
    "        return x\n",
    "    def atom(self):\n",
    "        r = np.random.choice([True, False], p=self.p_atom)\n",
    "        x = self.sint() if r else \"(\" + self.exp() + \")\"\n",
    "        return x\n",
    "    def exp(self):\n",
    "        r = np.random.choice([\"+\", \"-\", \"*\", \"/\", \"%\", \"^\"], p=self.p_exp)\n",
    "        x = self.atom() + r + self.atom()\n",
    "        return x\n",
    "    def make(self, n):\n",
    "        problems = []\n",
    "        for _ in range(n):\n",
    "            question = self.exp()\n",
    "            answer = eval(question)\n",
    "            if (not self.ans_is_num):\n",
    "                answer = str(answer)\n",
    "            problems.append([question, answer])\n",
    "        return problems"
   ]
  },
  {
   "cell_type": "code",
   "execution_count": 70,
   "metadata": {},
   "outputs": [
    {
     "name": "stdout",
     "output_type": "stream",
     "text": [
      "     question  answer\n",
      "0      (-9)-8     -17\n",
      "1   (-8)-(-4)      -4\n",
      "2  (-31)+(-0)     -31\n",
      "3   (-7)-(-2)      -5\n",
      "4      1+(-8)      -7\n"
     ]
    }
   ],
   "source": [
    "np.random.seed(0)\n",
    "p_lower = [0.9, 0.1]\n",
    "p_uint = [0.7, 0.3]\n",
    "p_sint = [0.5, 0.5]\n",
    "p_atom = [1.0, 0.0]\n",
    "p_exp = [0.5, 0.5, 0.0, 0.0, 0.0, 0.0]\n",
    "easy = Problem(p_lower, p_uint, p_sint, p_atom, p_exp)\n",
    "dataset = pd.DataFrame(easy.make(100), columns=[\"question\", \"answer\"])\n",
    "print(dataset.head())\n",
    "\n",
    "dataset.to_csv(\"easy_problem.csv\", index=False)"
   ]
  },
  {
   "cell_type": "code",
   "execution_count": 57,
   "metadata": {},
   "outputs": [
    {
     "data": {
      "text/plain": [
       "[['13+(-2)', 11],\n",
       " ['(-3)+(-406)', -409],\n",
       " ['(-606)*4', -2424],\n",
       " ['99-9', 90],\n",
       " ['(-2)-((-88)+93)', -7],\n",
       " ['(-49)+(9+((-2)+0))', -42],\n",
       " ['91-(-533)', 624],\n",
       " ['(-55)*66', -3630],\n",
       " ['(-1)+(-39)', -40],\n",
       " ['18-7', 11]]"
      ]
     },
     "execution_count": 57,
     "metadata": {},
     "output_type": "execute_result"
    }
   ],
   "source": [
    "p_lower = [0.9, 0.1]\n",
    "p_uint = [0.4, 0.6]\n",
    "p_sint = [0.6, 0.4]\n",
    "p_atom = [0.8, 0.2]\n",
    "p_exp = [0.5, 0.3, 0.2, 0.0, 0.0, 0.0]\n",
    "hard = Problem(p_lower, p_uint, p_sint, p_atom, p_exp)\n",
    "hard.make(10)"
   ]
  },
  {
   "cell_type": "code",
   "execution_count": null,
   "metadata": {},
   "outputs": [],
   "source": []
  },
  {
   "cell_type": "code",
   "execution_count": null,
   "metadata": {},
   "outputs": [],
   "source": []
  }
 ],
 "metadata": {
  "kernelspec": {
   "display_name": "Python 3",
   "language": "python",
   "name": "python3"
  },
  "language_info": {
   "codemirror_mode": {
    "name": "ipython",
    "version": 3
   },
   "file_extension": ".py",
   "mimetype": "text/x-python",
   "name": "python",
   "nbconvert_exporter": "python",
   "pygments_lexer": "ipython3",
   "version": "3.7.4"
  }
 },
 "nbformat": 4,
 "nbformat_minor": 2
}
