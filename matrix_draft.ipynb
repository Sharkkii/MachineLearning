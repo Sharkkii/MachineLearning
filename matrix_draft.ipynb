{
 "cells": [
  {
   "cell_type": "code",
   "execution_count": 1,
   "metadata": {},
   "outputs": [],
   "source": [
    "import numpy as np"
   ]
  },
  {
   "cell_type": "markdown",
   "metadata": {},
   "source": [
    "# 行列の基本操作\n",
    "\n",
    "$A = (a_{ij}) \\in M_{mn}({\\mathbf R}), B = (b_{ij}) \\in M_{mn}({\\mathbf R}), C = (c_{ij}) \\in M_{nl}({\\mathbf R})$のとき、\n",
    "\\begin{eqnarray*}\n",
    "(A + B)_{ij} &=& a_{ij} + b_{ij} \\\\\n",
    "(A C)_{ij} &=& \\Sigma_{k=1}^n a_{ik} c_{kj}\n",
    "\\end{eqnarray*}\n",
    "である。\n",
    "正方行列$A \\in M_{nn}({\\mathbf R})$に対して、\n",
    "\\begin{eqnarray*}\n",
    "A B = B A = I_n\n",
    "\\end{eqnarray*}\n",
    "を満たす行列$B \\in M_{nn}({\\mathbf R})$を$A$の逆行列という。これを$A^{-1}$とかく。\n",
    "また逆行列を有するとき、正則であるという。(そうでないときには特異である。)"
   ]
  },
  {
   "cell_type": "markdown",
   "metadata": {},
   "source": [
    "# 行列式\n",
    "\n",
    "$\\sigma: \\{ 1, \\dots, n\\} \\rightarrow \\{ 1, \\dots, n\\}$なる全単射写像を($n$次の)置換写像という。\n",
    "$n$次の置換写像全体の集合を$S_n$と書くことにする。いま、正方行列$A \\in \\{ 1, \\dots, n\\}$に対して\n",
    "\\begin{eqnarray*}\n",
    "| A | \\equiv \\Sigma_{\\sigma \\in S_n} (-1)^{sgn(\\sigma)} a_{1 \\sigma(1)} \\dots a_{n \\sigma(n)}\n",
    "\\end{eqnarray*}\n",
    "を$A$の行列式と定義する。$n$次の置換は一般に$n-1$個以下の互換によって表すことができるが、$sgn(\\sigma)$はその互換の数が偶数ならば0、奇数ならば1となる。\n",
    "$A$の行列式が0でないことと$A$が正則であることは同値である。また、\n",
    "\\begin{eqnarray*}\n",
    "| AB | = | A | | B | \\\\\n",
    "| A^{-1} | = | A |^{-1}\n",
    "\\end{eqnarray*}\n",
    "が成立する。"
   ]
  },
  {
   "cell_type": "markdown",
   "metadata": {},
   "source": [
    "# 行基本変形\n",
    "\n",
    "\\begin{eqnarray*}\n",
    "E_1 \\equiv\n",
    "\\left(\n",
    "\\begin{array}{ccccc}\n",
    "1 & 0 & \\cdots & \\cdots & 0 \\\\\n",
    "0 & \\ldots & & & \\vdots \\\\\n",
    "\\vdots & & c & & \\vdots \\\\\n",
    "\\vdots & & & \\ldots & 0 \\\\\n",
    "0 & \\cdots & \\cdots & 0 & 1\n",
    "\\end{array}\n",
    "\\right)\n",
    "\\end{eqnarray*}\n",
    "\n",
    "↑雛形\n",
    "\n",
    "1. 第$k$行を$c$倍する\n",
    "$$\n",
    "(E_1)_{ij} =\n",
    "\\begin{cases}\n",
    "c & \\text{ if } i=j=k \\\\\n",
    "1 & \\text{ if } i=j \\neq k \\\\\n",
    "0 & \\text{ otherwise }\n",
    "\\end{cases}\n",
    "$$\n",
    "2. 第$k$行に第$l$行の$c$倍を加える\n",
    "$$\n",
    "(E_2)_{ij} =\n",
    "\\begin{cases}\n",
    "c & \\text{ if } i=k, j=l \\\\\n",
    "1 & \\text{ if } i=j \\\\\n",
    "0 & \\text{ otherwise }\n",
    "\\end{cases}\n",
    "$$\n",
    "3. 第$k$行と第$l$行を入れ替える\n",
    "$$\n",
    "(E_3)_{ij} =\n",
    "\\begin{cases}\n",
    "1 & \\text{ if } i=j, i \\neq k, j \\neq l \\text{ or } i=k, j=l \\text{ or } i=l, j=k \\\\\n",
    "0 & \\text{ otherwise }\n",
    "\\end{cases}\n",
    "$$\n",
    "\n",
    "上の3つを基本行列といい、これを左からかけることで行基本変形を行う。階段行列の行列式は容易に求められるので、これと行列式の性質($|AB| = |A||B|$)を利用して一般の行列の行列式を求められる。\n",
    "また、行基本変形を利用して逆行列を求めることもできる。$A \\in M_{nn}({\\mathbf{R}})$として\n",
    "$$\n",
    "A^{-1} (A | I_n) = (I_n A^{-1})\n",
    "$$\n",
    "であるから、$(A | I_n)$に行基本変形を施して左側ブロックを単位行列にすることで右側ブロックに$A^{-1}$が現れる。"
   ]
  },
  {
   "cell_type": "markdown",
   "metadata": {},
   "source": [
    "# ランク\n",
    "\n",
    "ランクの同値な定義は様々あるが、ここでは直感的にわかりやすいものを採用する。行列$A \\in M_{mn}({\\mathbf R})$に対して行基本変形を行うことで階段行列$A'$にしたとき、非零の行ベクトルの本数を行列$A$のランクという。これは$A$の行で1次独立なものの最大本数に等しい。"
   ]
  },
  {
   "cell_type": "markdown",
   "metadata": {},
   "source": [
    "# 固有値\n",
    "\n",
    "正方行列$A \\in M_{n}({\\mathbf R})$に対して、\n",
    "$$\n",
    "A v = \\lambda v\n",
    "$$\n",
    "を満たすような$\\lambda$を$A$の固有値、$v$を$A$の(固有値$\\lambda$に対応する)固有ベクトルという。"
   ]
  },
  {
   "cell_type": "markdown",
   "metadata": {},
   "source": [
    "# 行列の微分\n",
    "\n",
    "ベクトル$x \\in {\\mathbf R}^n$による微分、行列$A \\in M_{mn}({\\mathbf R})$によるスカラ$f$の微分を次のように定義する。\n",
    "$$\n",
    "(\\frac{\\partial}{\\partial x} f)_i \\equiv \\frac{\\partial}{\\partial x_i} f \\\\\n",
    "(\\frac{\\partial}{\\partial A} f)_{ij} \\equiv \\frac{\\partial}{\\partial A_{ij}} f\n",
    "$$\n",
    "ベクトル・行列の微分に関してよく使う性質として次のようなものがある。\n",
    "$$\n",
    "\\frac{\\partial}{\\partial a} a^T b = b \\\\\n",
    "\\frac{\\partial}{\\partial \\vec{x}} \\vec{x}^T A \\vec{x} = (A + A^T) \\vec{x}\n",
    "$$"
   ]
  },
  {
   "cell_type": "code",
   "execution_count": null,
   "metadata": {},
   "outputs": [],
   "source": []
  },
  {
   "cell_type": "code",
   "execution_count": null,
   "metadata": {},
   "outputs": [],
   "source": []
  },
  {
   "cell_type": "code",
   "execution_count": null,
   "metadata": {},
   "outputs": [],
   "source": []
  },
  {
   "cell_type": "code",
   "execution_count": null,
   "metadata": {},
   "outputs": [],
   "source": []
  },
  {
   "cell_type": "code",
   "execution_count": null,
   "metadata": {},
   "outputs": [],
   "source": []
  },
  {
   "cell_type": "code",
   "execution_count": null,
   "metadata": {},
   "outputs": [],
   "source": []
  },
  {
   "cell_type": "code",
   "execution_count": null,
   "metadata": {},
   "outputs": [],
   "source": []
  },
  {
   "cell_type": "code",
   "execution_count": null,
   "metadata": {},
   "outputs": [],
   "source": []
  },
  {
   "cell_type": "code",
   "execution_count": null,
   "metadata": {},
   "outputs": [],
   "source": []
  },
  {
   "cell_type": "code",
   "execution_count": null,
   "metadata": {},
   "outputs": [],
   "source": []
  },
  {
   "cell_type": "code",
   "execution_count": null,
   "metadata": {},
   "outputs": [],
   "source": []
  },
  {
   "cell_type": "code",
   "execution_count": null,
   "metadata": {},
   "outputs": [],
   "source": []
  },
  {
   "cell_type": "code",
   "execution_count": null,
   "metadata": {},
   "outputs": [],
   "source": []
  },
  {
   "cell_type": "code",
   "execution_count": null,
   "metadata": {},
   "outputs": [],
   "source": []
  },
  {
   "cell_type": "code",
   "execution_count": null,
   "metadata": {},
   "outputs": [],
   "source": []
  },
  {
   "cell_type": "code",
   "execution_count": null,
   "metadata": {},
   "outputs": [],
   "source": []
  },
  {
   "cell_type": "code",
   "execution_count": null,
   "metadata": {},
   "outputs": [],
   "source": []
  },
  {
   "cell_type": "code",
   "execution_count": null,
   "metadata": {},
   "outputs": [],
   "source": []
  },
  {
   "cell_type": "code",
   "execution_count": null,
   "metadata": {},
   "outputs": [],
   "source": []
  },
  {
   "cell_type": "code",
   "execution_count": null,
   "metadata": {},
   "outputs": [],
   "source": []
  },
  {
   "cell_type": "code",
   "execution_count": null,
   "metadata": {},
   "outputs": [],
   "source": []
  },
  {
   "cell_type": "code",
   "execution_count": null,
   "metadata": {},
   "outputs": [],
   "source": []
  },
  {
   "cell_type": "code",
   "execution_count": null,
   "metadata": {},
   "outputs": [],
   "source": []
  }
 ],
 "metadata": {
  "kernelspec": {
   "display_name": "Python 3",
   "language": "python",
   "name": "python3"
  },
  "language_info": {
   "codemirror_mode": {
    "name": "ipython",
    "version": 3
   },
   "file_extension": ".py",
   "mimetype": "text/x-python",
   "name": "python",
   "nbconvert_exporter": "python",
   "pygments_lexer": "ipython3",
   "version": "3.7.4"
  }
 },
 "nbformat": 4,
 "nbformat_minor": 2
}
